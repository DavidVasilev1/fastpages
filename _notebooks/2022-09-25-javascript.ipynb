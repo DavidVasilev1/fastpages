{
 "cells": [
  {
   "cell_type": "markdown",
   "metadata": {},
   "source": [
    "# Javascript Usage\n",
    "> Showing the use of javascript with a submenu.\n",
    "\n",
    "- title: Javascript Usage\n",
    "- toc: false\n",
    "- categories: [Jupyter, Trimester 1, Tri 1 Assignments]\n",
    "- comments: true"
   ]
  },
  {
   "cell_type": "markdown",
   "metadata": {},
   "source": [
    "{% include navbar-javascript.html %}"
   ]
  },
  {
   "cell_type": "markdown",
   "metadata": {},
   "source": [
    "## Submenu:\n",
    "\n",
    "I created a template with a table in _includes, which I imported into this page. In the table I have links to the things I did.\n",
    "\n",
    "![]({{site.baseurl}}/images/template.png \"https://github.com/LiavB2/ominicient-lavebear\")\n"
   ]
  }
 ],
 "metadata": {
  "kernelspec": {
   "display_name": "Python 3.8.10 64-bit",
   "language": "python",
   "name": "python3"
  },
  "language_info": {
   "name": "python",
   "version": "3.8.10"
  },
  "orig_nbformat": 4,
  "vscode": {
   "interpreter": {
    "hash": "916dbcbb3f70747c44a77c7bcd40155683ae19c65e1c03b4aa3499c5328201f1"
   }
  }
 },
 "nbformat": 4,
 "nbformat_minor": 2
}
