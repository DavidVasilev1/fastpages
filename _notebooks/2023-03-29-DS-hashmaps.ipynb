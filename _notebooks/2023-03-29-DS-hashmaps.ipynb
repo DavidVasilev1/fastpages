{
 "cells": [
  {
   "attachments": {},
   "cell_type": "markdown",
   "metadata": {},
   "source": [
    "#  Data Structures- Hashmaps, Sets, Hash Tables, Hashing and Collisions\n",
    "> Observing hashmaps with python dictionaries\n",
    "- toc: true\n",
    "- categories: []"
   ]
  },
  {
   "attachments": {},
   "cell_type": "markdown",
   "metadata": {},
   "source": [
    "## What is a Hashtable/Hashmap?\n",
    "\n",
    "> A hashtable is a data structure that with a collection of key-value pairs, where each key maps to a value, and the keys must be unique and hashable.\n",
    "\n",
    "- In Python there is a built in hashtable known as a dictionary.\n",
    "\n",
    "> The primary purpose of a hashtable is to provide efficient lookup, insertion, and deletion operations. When an element is to be inserted into the hashtable, a hash function is used to map the key to a specific index in the underlying array that is used to store the key-value pairs. The value is then stored at that index. When searching for a value, the hash function is used again to find the index where the value is stored.\n",
    "\n",
    "> The key advantage of a hashtable over other data structures like arrays and linked lists is its average-case time complexity for lookup, insertion, and deletion operations.\n",
    "\n",
    "- The typical time complexity of a hashtable is O(1). \n"
   ]
  },
  {
   "attachments": {},
   "cell_type": "markdown",
   "metadata": {},
   "source": [
    "## What is Hashing and Collision?\n",
    "\n",
    "> Hashing is the process of mapping a given key to a value in a hash table or hashmap, using a hash function. The hash function takes the key as input and produces a hash value or hash code, which is then used to determine the index in the underlying array where the value is stored. The purpose of hashing is to provide a quick and efficient way to access data, by eliminating the need to search through an entire data structure to find a value.\n",
    "\n",
    "> However, it is possible for two different keys to map to the same hash value, resulting in a collision. When a collision occurs, there are different ways to resolve it, depending on the collision resolution strategy used.\n",
    "\n",
    "> Python's dictionary implementation is optimized to handle collisions efficiently, and the performance of the dictionary is generally very good, even in the presence of collisions. However, if the number of collisions is very high, the performance of the dictionary can degrade, so it is important to choose a good hash function that minimizes collisions when designing a Python dictionary.\n",
    "\n",
    "## What is a Set?"
   ]
  },
  {
   "cell_type": "code",
   "execution_count": 10,
   "metadata": {},
   "outputs": [
    {
     "name": "stdout",
     "output_type": "stream",
     "text": [
      "{1, 2, 3}\n"
     ]
    }
   ],
   "source": [
    "# Creating a set using set() function\n",
    "my_set = set([1, 2, 3, 2, 1])\n",
    "print(my_set)  \n",
    "\n",
    "# What do you notice in the output?\n",
    "\n",
    "  # It took the set of numbers and then printed them in order, as well as taking out the garbage data.\n",
    "\n",
    "# Why do you think Sets are in the same tech talk as Hashmaps/Hashtables?\n",
    "\n",
    "  # Sets probably have unique values in order to check for duplicates and fixing data sets."
   ]
  },
  {
   "attachments": {},
   "cell_type": "markdown",
   "metadata": {},
   "source": [
    "## Dictionary Example\n",
    "\n",
    "Below are just some basic features of a dictionary. As always, documentation is always the main source for all the full capablilties. "
   ]
  },
  {
   "cell_type": "code",
   "execution_count": 11,
   "metadata": {},
   "outputs": [
    {
     "name": "stdout",
     "output_type": "stream",
     "text": [
      "{'title': 'Lover', 'artist': 'Taylor Swift', 'year': 2019, 'genre': ['Pop', 'Synth-pop'], 'tracks': {1: 'I Forgot That You Existed', 2: 'Cruel Summer', 3: 'Lover', 4: 'The Man', 5: 'The Archer', 6: 'I Think He Knows', 7: 'Miss Americana & The Heartbreak Prince', 8: 'Paper Rings', 9: 'Cornelia Street', 10: 'Death By A Thousand Cuts', 11: 'London Boy', 12: \"Soon You'll Get Better (feat. Dixie Chicks)\", 13: 'False God', 14: 'You Need To Calm Down', 15: 'Afterglow', 16: 'Me! (feat. Brendon Urie of Panic! At The Disco)', 17: \"It's Nice To Have A Friend\", 18: 'Daylight'}}\n"
     ]
    }
   ],
   "source": [
    "# Creating a dictionary with information about the album \"Lover\"\n",
    "lover_album = {\n",
    "    \"title\": \"Lover\",\n",
    "    \"artist\": \"Taylor Swift\",\n",
    "    \"year\": 2019,\n",
    "    \"genre\": [\"Pop\", \"Synth-pop\"],\n",
    "    \"tracks\": {\n",
    "        1: \"I Forgot That You Existed\",\n",
    "        2: \"Cruel Summer\",\n",
    "        3: \"Lover\",\n",
    "        4: \"The Man\",\n",
    "        5: \"The Archer\",\n",
    "        6: \"I Think He Knows\",\n",
    "        7: \"Miss Americana & The Heartbreak Prince\",\n",
    "        8: \"Paper Rings\",\n",
    "        9: \"Cornelia Street\",\n",
    "        10: \"Death By A Thousand Cuts\",\n",
    "        11: \"London Boy\",\n",
    "        12: \"Soon You'll Get Better (feat. Dixie Chicks)\",\n",
    "        13: \"False God\",\n",
    "        14: \"You Need To Calm Down\",\n",
    "        15: \"Afterglow\",\n",
    "        16: \"Me! (feat. Brendon Urie of Panic! At The Disco)\",\n",
    "        17: \"It's Nice To Have A Friend\",\n",
    "        18: \"Daylight\"\n",
    "    }\n",
    "}\n",
    "\n",
    "# What data structures do you see?\n",
    "\n",
    "    # I see dictionaries and lists. Genre has a list. Tracks is a dictionary.\n",
    "\n",
    "\n",
    "# Printing the dictionary\n",
    "print(lover_album)"
   ]
  },
  {
   "cell_type": "code",
   "execution_count": 12,
   "metadata": {},
   "outputs": [
    {
     "name": "stdout",
     "output_type": "stream",
     "text": [
      "{1: 'I Forgot That You Existed', 2: 'Cruel Summer', 3: 'Lover', 4: 'The Man', 5: 'The Archer', 6: 'I Think He Knows', 7: 'Miss Americana & The Heartbreak Prince', 8: 'Paper Rings', 9: 'Cornelia Street', 10: 'Death By A Thousand Cuts', 11: 'London Boy', 12: \"Soon You'll Get Better (feat. Dixie Chicks)\", 13: 'False God', 14: 'You Need To Calm Down', 15: 'Afterglow', 16: 'Me! (feat. Brendon Urie of Panic! At The Disco)', 17: \"It's Nice To Have A Friend\", 18: 'Daylight'}\n",
      "{1: 'I Forgot That You Existed', 2: 'Cruel Summer', 3: 'Lover', 4: 'The Man', 5: 'The Archer', 6: 'I Think He Knows', 7: 'Miss Americana & The Heartbreak Prince', 8: 'Paper Rings', 9: 'Cornelia Street', 10: 'Death By A Thousand Cuts', 11: 'London Boy', 12: \"Soon You'll Get Better (feat. Dixie Chicks)\", 13: 'False God', 14: 'You Need To Calm Down', 15: 'Afterglow', 16: 'Me! (feat. Brendon Urie of Panic! At The Disco)', 17: \"It's Nice To Have A Friend\", 18: 'Daylight'}\n"
     ]
    }
   ],
   "source": [
    "# Retrieve value from dictionary with key\n",
    "print(lover_album.get('tracks'))\n",
    "# or\n",
    "print(lover_album['tracks'])"
   ]
  },
  {
   "cell_type": "code",
   "execution_count": 13,
   "metadata": {},
   "outputs": [
    {
     "name": "stdout",
     "output_type": "stream",
     "text": [
      "The Man\n",
      "The Man\n"
     ]
    }
   ],
   "source": [
    "# Retrieve value from a dictionary inside a dictionary\n",
    "print(lover_album.get('tracks')[4])\n",
    "# or\n",
    "print(lover_album['tracks'][4])"
   ]
  },
  {
   "cell_type": "code",
   "execution_count": 14,
   "metadata": {},
   "outputs": [
    {
     "name": "stdout",
     "output_type": "stream",
     "text": [
      "{'title': 'Lover', 'artist': 'Taylor Swift', 'year': 2019, 'genre': ['Pop', 'Synth-pop'], 'tracks': {1: 'I Forgot That You Existed', 2: 'Cruel Summer', 3: 'Lover', 4: 'The Man', 5: 'The Archer', 6: 'I Think He Knows', 7: 'Miss Americana & The Heartbreak Prince', 8: 'Paper Rings', 9: 'Cornelia Street', 10: 'Death By A Thousand Cuts', 11: 'London Boy', 12: \"Soon You'll Get Better (feat. Dixie Chicks)\", 13: 'False God', 14: 'You Need To Calm Down', 15: 'Afterglow', 16: 'Me! (feat. Brendon Urie of Panic! At The Disco)', 17: \"It's Nice To Have A Friend\", 18: 'Daylight'}, 'producer': {'Louis Bell', 'Joel Little', 'Frank Dukes', 'Jack Antonoff', 'Taylor Swift'}}\n"
     ]
    }
   ],
   "source": [
    "# adding a value with a new key\n",
    "lover_album[\"producer\"] = set(['Taylor Swift', 'Jack Antonoff', 'Joel Little', 'Taylor Swift', 'Louis Bell', 'Frank Dukes'])\n",
    "\n",
    "# What can you change to make sure there are no duplicate producers?\n",
    "\n",
    "  # You can use ```set``` in order to make sure there are no duplicate data in output.\n",
    "\n",
    "\n",
    "# Printing the dictionary\n",
    "print(lover_album)"
   ]
  },
  {
   "cell_type": "code",
   "execution_count": 15,
   "metadata": {},
   "outputs": [
    {
     "name": "stdout",
     "output_type": "stream",
     "text": [
      "{'title': 'Lover', 'artist': 'Taylor Swift', 'year': 2019, 'genre': ['Pop', 'Synth-pop'], 'tracks': {1: 'I Forgot That You Existed', 2: 'Cruel Summer', 3: 'Lover', 4: 'The Man', 5: 'The Archer', 6: 'I Think He Knows', 7: 'Miss Americana & The Heartbreak Prince', 8: 'Paper Rings', 9: 'Cornelia Street', 10: 'Death By A Thousand Cuts', 11: 'London Boy', 12: \"Soon You'll Get Better (feat. Dixie Chicks)\", 13: 'False God', 14: 'You Need To Calm Down', 15: 'Afterglow', 16: 'Me! (feat. Brendon Urie of Panic! At The Disco)', 17: \"It's Nice To Have A Friend\", 18: 'Daylight', 19: 'All Of The Girls You Loved Before'}, 'producer': {'Louis Bell', 'Joel Little', 'Frank Dukes', 'Jack Antonoff', 'Taylor Swift'}}\n"
     ]
    }
   ],
   "source": [
    "# Adding a an key-value pair to an existing key \n",
    "lover_album[\"tracks\"].update({19: \"All Of The Girls You Loved Before\"})\n",
    "\n",
    "# How would add an additional genre to the dictionary, like electropop? \n",
    "\n",
    "  # You would update the genre list with electropop.\n",
    "\n",
    "# Printing the dictionary\n",
    "print(lover_album)"
   ]
  },
  {
   "cell_type": "code",
   "execution_count": 20,
   "metadata": {},
   "outputs": [
    {
     "name": "stdout",
     "output_type": "stream",
     "text": [
      "title\tLover\n",
      "artist\tTaylor Swift\n",
      "year\t2019\n",
      "genre\t['Pop', 'Synth-pop']\n",
      "tracks\t{1: 'I Forgot That You Existed', 2: 'Cruel Summer', 3: 'Lover', 4: 'The Man', 5: 'The Archer', 6: 'I Think He Knows', 7: 'Miss Americana & The Heartbreak Prince', 8: 'Paper Rings', 9: 'Cornelia Street', 10: 'Death By A Thousand Cuts', 11: 'London Boy', 12: \"Soon You'll Get Better (feat. Dixie Chicks)\", 13: 'False God', 14: 'You Need To Calm Down', 15: 'Afterglow', 16: 'Me! (feat. Brendon Urie of Panic! At The Disco)', 17: \"It's Nice To Have A Friend\", 18: 'Daylight', 19: 'All Of The Girls You Loved Before'}\n",
      "producer\t{'Louis Bell', 'Joel Little', 'Frank Dukes', 'Jack Antonoff', 'Taylor Swift'}\n"
     ]
    }
   ],
   "source": [
    "# Print lover_album in more readable format\n",
    "#for k,v in lover_album.items(): # iterate using a for loop for key and value\n",
    "#    print(str(k) + \": \" + str(v))\n",
    "\n",
    "# Write your own code to print tracks in readable format\n",
    "\n",
    "for k,v in lover_album.items():\n",
    "    print(str(k) + \"\\t\" + str(lover_album[k]))"
   ]
  },
  {
   "cell_type": "code",
   "execution_count": 38,
   "metadata": {},
   "outputs": [
    {
     "name": "stdout",
     "output_type": "stream",
     "text": [
      "genre\n",
      "Pop\n",
      "Synth-pop\n"
     ]
    }
   ],
   "source": [
    "# Using conditionals to retrieve a random song\n",
    "# def search():\n",
    "#     search = input(\"What would you like to know about the album?\")\n",
    "#     if lover_album.get(search.lower()) == None:\n",
    "#         print(\"Invalid Search\")\n",
    "#     else:\n",
    "#         print(lover_album.get(search.lower()))\n",
    "\n",
    "# search()\n",
    "\n",
    "# This is a very basic code segment, how can you improve upon this code?\n",
    "\n",
    "    # You can format the output better or make the options given to the user clickable rather than custom user input. You can also format the output better and check for errors.\n",
    "\n",
    "def newSearch():\n",
    "    search = input(\"What would you like to know about the album?\").lower()\n",
    "    if lover_album.get(search) == None:\n",
    "        print(\"Invalid Search\")\n",
    "    else:\n",
    "        print(search)\n",
    "        for k in lover_album[search]:\n",
    "            print(str(k))\n",
    "\n",
    "newSearch()"
   ]
  },
  {
   "attachments": {},
   "cell_type": "markdown",
   "metadata": {},
   "source": [
    "## Hacks\n",
    "\n",
    "- Answer *ALL* questions in the code segments\n",
    "- Create a diagram or comparison illustration (Canva).\n",
    "    - What are the pro and cons of using this data structure? \n",
    "    - Dictionary vs List\n",
    "\n",
    "![chart](images/charts.jpg)\n",
    "\n",
    "- Expand upon the code given to you, possible improvements in comments\n",
    "- Build your own album showing features of a python dictionary\n",
    "\n",
    "- For Mr. Yeung's class: Justify your favorite Taylor Swift song, answer may effect seed"
   ]
  },
  {
   "cell_type": "code",
   "execution_count": 59,
   "metadata": {},
   "outputs": [
    {
     "name": "stdout",
     "output_type": "stream",
     "text": [
      "Original:\n",
      "{'title': 'myAlbum', 'artists': ['juno', 'Snow', 'glaive', 'Snow', 'Papithbk', 'itssvd', 'ericdoa', 'kurtainz', 'glaive'], 'year': '2022', 'genre': ['Rap', 'Hyperpop', 'Lo-fi', 'Pop', 'EDM'], 'tracks': {1: 'nowhere to go', 2: 'Misbehave', 3: 'eyesore', 4: 'Tell Me You Want Me', 5: 'Caution and Ease', 6: 'Safe', 7: 'cheap liquor', 8: 'tracksuitz', 9: 'synopsis'}}\n",
      "\n",
      "Adding Section\n",
      "New Category: Instruments\n",
      "- piano\n",
      "- guitar\n",
      "- violin\n",
      "- synth\n",
      "- bass\n",
      "- saw\n",
      "- pluck\n",
      "- kick\n",
      "- hi-hat\n",
      "- 808\n",
      "\n",
      "Original:\n",
      "{'title': 'myAlbum', 'artists': ['juno', 'Snow', 'glaive', 'Snow', 'Papithbk', 'itssvd', 'ericdoa', 'kurtainz', 'glaive'], 'year': '2022', 'genre': ['Rap', 'Hyperpop', 'Lo-fi', 'Pop', 'EDM'], 'tracks': {1: 'nowhere to go', 2: 'Misbehave', 3: 'eyesore', 4: 'Tell Me You Want Me', 5: 'Caution and Ease', 6: 'Safe', 7: 'cheap liquor', 8: 'tracksuitz', 9: 'synopsis'}, 'instruments': ['piano', 'guitar', 'violin', 'synth', 'bass', 'saw', 'pluck', 'kick', 'hi-hat', '808']}\n",
      "\n",
      "Calling Section: Artists\n",
      "- Snow\n",
      "- itssvd\n",
      "- Papithbk\n",
      "- ericdoa\n",
      "- kurtainz\n",
      "- juno\n",
      "- glaive\n",
      "\n",
      "Random 5 Songs\n",
      "1 - Safe\n",
      "2 - cheap liquor\n",
      "3 - eyesore\n",
      "4 - Tell Me You Want Me\n",
      "5 - eyesore\n"
     ]
    }
   ],
   "source": [
    "from random import randint\n",
    "\n",
    "myAlbum = {\n",
    "    \"title\": \"myAlbum\",\n",
    "    \"artists\": [\"juno\", \"Snow\", \"glaive\", \"Snow\", \"Papithbk\", \"itssvd\", \"ericdoa\", \"kurtainz\", \"glaive\"],\n",
    "    \"year\": \"2022\",\n",
    "    \"genre\": [\"Rap\", \"Hyperpop\", \"Lo-fi\", \"Pop\", \"EDM\"],\n",
    "    \"tracks\": {1: \"nowhere to go\", 2: \"Misbehave\", 3: \"eyesore\", 4: \"Tell Me You Want Me\", 5: \"Caution and Ease\", 6: \"Safe\", 7: \"cheap liquor\", 8: \"tracksuitz\", 9: \"synopsis\"}\n",
    "}\n",
    "\n",
    "print(\"Original:\")\n",
    "print(myAlbum)\n",
    "print()\n",
    "\n",
    "print(\"Adding Section\")\n",
    "myAlbum[\"instruments\"] = [\"piano\", \"guitar\", \"violin\", \"synth\", \"bass\", \"saw\", \"pluck\", \"kick\", \"hi-hat\", \"808\"]\n",
    "print(\"New Category: Instruments\")\n",
    "for instrument in myAlbum.get(\"instruments\"):\n",
    "    print(\"- \" + instrument)\n",
    "print()\n",
    "\n",
    "print(\"Original:\")\n",
    "print(myAlbum)\n",
    "print()\n",
    "\n",
    "print(\"Calling Section: Artists\")\n",
    "for artist in set(myAlbum.get(\"artists\")):\n",
    "    print(\"- \" + artist)\n",
    "print()\n",
    "\n",
    "print(\"Random 5 Songs\")\n",
    "count = 1\n",
    "while count < 6:\n",
    "    id = randint(1,9)\n",
    "    print(str(count) + \" - \" + myAlbum[\"tracks\"][id])\n",
    "    count += 1"
   ]
  }
 ],
 "metadata": {
  "kernelspec": {
   "display_name": "base",
   "language": "python",
   "name": "python3"
  },
  "language_info": {
   "codemirror_mode": {
    "name": "ipython",
    "version": 3
   },
   "file_extension": ".py",
   "mimetype": "text/x-python",
   "name": "python",
   "nbconvert_exporter": "python",
   "pygments_lexer": "ipython3",
   "version": "3.9.12"
  },
  "orig_nbformat": 4,
  "vscode": {
   "interpreter": {
    "hash": "9c393114422054e1f55815341def6ca2b946d6f97dc3f0838fd9643422e0df74"
   }
  }
 },
 "nbformat": 4,
 "nbformat_minor": 2
}
