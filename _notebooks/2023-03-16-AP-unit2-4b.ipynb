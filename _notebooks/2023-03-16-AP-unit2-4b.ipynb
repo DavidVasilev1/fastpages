{
 "cells": [
  {
   "attachments": {},
   "cell_type": "markdown",
   "metadata": {},
   "source": [
    "#  Unit 2.4b Using Programs with Data, SQL\n",
    "> Using Programs with Data is focused on SQL and database actions.  Part B focuses on learning SQL commands, connections, and curses using an Imperative programming style,\n",
    "- toc: true\n",
    "- categories: [Jupyter, Python, Trimester 3, Notes, Lesson, Backend]"
   ]
  },
  {
   "attachments": {},
   "cell_type": "markdown",
   "metadata": {},
   "source": [
    "# Database Programming is Program with Data\n",
    "> Each Tri 2 Final Project should be an example of a Program with Data. \n",
    "\n",
    ">  Prepare to use SQLite in common Imperative Technique\n",
    "- Explore [SQLite Connect object](https://www.tutorialspoint.com/python_data_access/python_sqlite_establishing_connection.htm) to establish database connection\n",
    "- Explore [SQLite Cursor Object](https://www.tutorialspoint.com/python_data_access/python_sqlite_cursor_object.htm) to fetch data from a table within a database\n"
   ]
  },
  {
   "attachments": {},
   "cell_type": "markdown",
   "metadata": {},
   "source": [
    "## Schema of Users table in Sqlite.db\n",
    "> Uses PRAGMA statement to read schema.\n",
    "\n",
    "Describe Schema, here is resource [Resource](https://www.sqlite.org/index.html)\n",
    "- What is a database schema?\n",
    "  - A database schema is a blueprint that organizes a database. This specifies where the data is stored and how it will be stored in the database.\n",
    "- What is the purpose of identity Column in SQL database?\n",
    "  - It is used to generate an id for each row in the table. This is used to index the data that is stored in the database so that it is easy to access in the future. It allows the user to simply enter the data they are searching for without needing to ask the user which row or column the data is in.\n",
    "- What is the purpose of a primary key in SQL database?\n",
    "  - The primary key is the unique identifier of each row in a database table, which allows uniqueness in a data table. With this each row can be indexed and parsed when needed in order to extract specific data from a cell.\n",
    "- What are the Data Types in SQL table?\n",
    "  - In SQL tables, there can be numeric values, character values, date and time values, boolean values, binary values, and spatial values. Numeric values are used for integers and decimals in order to store numbers. Character values are used to store alphabetical characters for names and texts. Date and time values are used for storing dates and times. Boolean values are used to show whether something is one or the other. Binary values are used to store images and videos. Spatial values are used to store lines and points, such as svg files."
   ]
  },
  {
   "cell_type": "code",
   "execution_count": 1,
   "metadata": {},
   "outputs": [
    {
     "name": "stdout",
     "output_type": "stream",
     "text": [
      "(0, 'id', 'INTEGER', 1, None, 1)\n",
      "(1, '_name', 'VARCHAR(255)', 1, None, 0)\n",
      "(2, '_uid', 'VARCHAR(255)', 1, None, 0)\n",
      "(3, '_password', 'VARCHAR(255)', 1, None, 0)\n",
      "(4, '_dob', 'DATE', 0, None, 0)\n"
     ]
    }
   ],
   "source": [
    "import sqlite3\n",
    "\n",
    "database = 'instance/sqlite.db' # this is location of database\n",
    "\n",
    "def schema():\n",
    "    \n",
    "    # Connect to the database file\n",
    "    conn = sqlite3.connect(database)\n",
    "\n",
    "    # Create a cursor object to execute SQL queries\n",
    "    cursor = conn.cursor()\n",
    "    \n",
    "    # Fetch results of Schema\n",
    "    results = cursor.execute(\"PRAGMA table_info('users')\").fetchall()\n",
    "\n",
    "    # Print the results\n",
    "    for row in results:\n",
    "        print(row)\n",
    "\n",
    "    # Close the database connection\n",
    "    conn.close()\n",
    "    \n",
    "schema()\n"
   ]
  },
  {
   "attachments": {},
   "cell_type": "markdown",
   "metadata": {},
   "source": [
    "## Reading Users table in Sqlite.db\n",
    "> Uses SQL SELECT statement to read data\n",
    "\n",
    "- What is a connection object?  After you google it, what do you think it does?\n",
    "  - A connection object is used to connect an object to a database of some sort. This is created when there is a connection established between a database and code, which can be used for parsing or updating data in the database. It usually includes location and name and other information such as a username and password in order to search for the data.\n",
    "- Same for cursor object?\n",
    "  - A cursor object is similar to a connection object, except it is used for the retrieval and manipulation of data in the database. This retrieves individual rows and data from the database for later use by the user in the frontend. It is what executes the action requested by the user while the connection object simply allows there to be a connection.\n",
    "- Look at conn object and cursor object in VSCode debugger.  What attributes are in the object?\n",
    "  - The conn object has attributes that give information about how the program is operating, such as errors and where the user is currently looking. The cursor object has attributes that are more specific to the data that is being extracting, what it is and where it is located in the database.\n",
    "- Is \"results\" an object?  How do you know?\n",
    "  - Results is an object that is part of the cursor object. This object gathers the specific material from the database and displays it. I know this is an object because it gathers data specific to the database and displays it."
   ]
  },
  {
   "cell_type": "code",
   "execution_count": 13,
   "metadata": {},
   "outputs": [
    {
     "name": "stdout",
     "output_type": "stream",
     "text": [
      "(1, 'Thomas Edison', 'toby', 'sha256$TQURtPApzAS2cPDF$1be74793f8c070f30c50425e7582f3025f9b279f6eed58491911703696ad68d1', '1847-02-11')\n",
      "(2, 'Nikola Tesla', 'niko', 'sha256$GhccXSpMYXjIwFML$075a945f8c54d84a0a2611354b7f5dae99cc0b3f54b7df78851404188c284fed', '2023-03-16')\n",
      "(3, 'Alexander Graham Bell', 'lex', 'sha256$jqTPzLjvbQgeh8bG$28da180fef3edf1c180b4477e5f9bafd6f9a4e73a8e85edaf09270010985da63', '2023-03-16')\n",
      "(4, 'Eli Whitney', 'whit', 'sha256$pbF5qPk2GTCPc0b1$79c57b36e6ea729c097c7fe6f26439c82594063b494662e55f9fe5428b66d0a4', '2023-03-16')\n",
      "(5, 'Indiana Jones', 'indi', 'sha256$5DG454cE4PYG5NUX$bb8c02ab6534340c76346682f81b37caab006dbc5798185c6e78f98c3e852ad0', '1920-10-21')\n",
      "(6, 'Marion Ravenwood', 'raven', 'sha256$smSiEHFDg6JAv9mJ$e53e491e9b684d37dd2c7b14c07443578a0c2f70c8908b1610d0e6d866ba39b0', '1921-10-21')\n",
      "(7, 'bob', 'bob', 'poop', '2012-04-16')\n"
     ]
    }
   ],
   "source": [
    "import sqlite3\n",
    "\n",
    "def read():\n",
    "    # Connect to the database file\n",
    "    conn = sqlite3.connect(database)\n",
    "\n",
    "    # Create a cursor object to execute SQL queries\n",
    "    cursor = conn.cursor()\n",
    "    \n",
    "    # Execute a SELECT statement to retrieve data from a table\n",
    "    results = cursor.execute('SELECT * FROM users').fetchall()\n",
    "\n",
    "    # Print the results\n",
    "    if len(results) == 0:\n",
    "        print(\"Table is empty\")\n",
    "    else:\n",
    "        for row in results:\n",
    "            print(row)\n",
    "\n",
    "    # Close the cursor and connection objects\n",
    "    cursor.close()\n",
    "    conn.close()\n",
    "    \n",
    "read()\n"
   ]
  },
  {
   "attachments": {},
   "cell_type": "markdown",
   "metadata": {},
   "source": [
    "## Create a new User in table in Sqlite.db\n",
    "> Uses SQL INSERT to add row\n",
    "-  Compare create() in both SQL lessons.  What is better or worse in the two implementations?\n",
    "  - This use of the ```create()``` is much better than the other implementation because it is a lot more efficient and shorter than the other implementation.\n",
    "-  Explain purpose of SQL INSERT.   Is this the same as User __init__?\n",
    "  - SQL INSERT is used to initialize the values of the table with the variables that are going to be used to store the data. This is the same as ```User(__init__)```."
   ]
  },
  {
   "cell_type": "code",
   "execution_count": 17,
   "metadata": {},
   "outputs": [
    {
     "name": "stdout",
     "output_type": "stream",
     "text": [
      "A new user record bob has been created\n"
     ]
    }
   ],
   "source": [
    "import sqlite3\n",
    "\n",
    "def create():\n",
    "    name = input(\"Enter your name:\")\n",
    "    uid = input(\"Enter your user id:\")\n",
    "    password = input(\"Enter your password\")\n",
    "    dob = input(\"Enter your date of birth 'YYYY-MM-DD'\")\n",
    "    \n",
    "    # Connect to the database file\n",
    "    conn = sqlite3.connect(database)\n",
    "\n",
    "    # Create a cursor object to execute SQL commands\n",
    "    cursor = conn.cursor()\n",
    "\n",
    "    try:\n",
    "        # Execute an SQL command to insert data into a table\n",
    "        cursor.execute(\"INSERT INTO users (_name, _uid, _password, _dob) VALUES (?, ?, ?, ?)\", (name, uid, password, dob))\n",
    "        \n",
    "        # Commit the changes to the database\n",
    "        conn.commit()\n",
    "        print(f\"A new user record {uid} has been created\")\n",
    "                \n",
    "    except sqlite3.Error as error:\n",
    "        print(\"Error while executing the INSERT:\", error)\n",
    "\n",
    "\n",
    "    # Close the cursor and connection objects\n",
    "    cursor.close()\n",
    "    conn.close()\n",
    "    \n",
    "create()"
   ]
  },
  {
   "attachments": {},
   "cell_type": "markdown",
   "metadata": {},
   "source": [
    "## Updating a User in table in Sqlite.db\n",
    "> Uses SQL UPDATE to modify password\n",
    "- What does the hacked part do?\n",
    "  - The hacked part sets a new password to all passwords that are less than two characters. This is similar to what hackers do when they gain access to an account and immediately change the current password to a new password in order to keep the actual user from entering their accounts ever again.\n",
    "- Explain try/except, when would except occur?\n",
    "  - The try/except tries to add in a new uid and keeps trying until the uid is either not found or until it is updated. If an exception is encountered, an error message is printed because an error in updating was found.\n",
    "- What code seems to be repeated in each of these examples to point, why is it repeated?"
   ]
  },
  {
   "cell_type": "code",
   "execution_count": 15,
   "metadata": {},
   "outputs": [
    {
     "name": "stdout",
     "output_type": "stream",
     "text": [
      "No uid smith was not found in the table\n"
     ]
    }
   ],
   "source": [
    "import sqlite3\n",
    "\n",
    "def update():\n",
    "    uid = input(\"Enter user id to update\")\n",
    "    password = input(\"Enter updated password\")\n",
    "    if len(password) < 2:\n",
    "        message = \"hacked\"\n",
    "        password = 'gothackednewpassword123'\n",
    "    else:\n",
    "        message = \"successfully updated\"\n",
    "\n",
    "    # Connect to the database file\n",
    "    conn = sqlite3.connect(database)\n",
    "\n",
    "    # Create a cursor object to execute SQL commands\n",
    "    cursor = conn.cursor()\n",
    "\n",
    "    try:\n",
    "        # Execute an SQL command to update data in a table\n",
    "        cursor.execute(\"UPDATE users SET _password = ? WHERE _uid = ?\", (password, uid))\n",
    "        if cursor.rowcount == 0:\n",
    "            # The uid was not found in the table\n",
    "            print(f\"No uid {uid} was not found in the table\")\n",
    "        else:\n",
    "            print(f\"The row with user id {uid} the password has been {message}\")\n",
    "            conn.commit()\n",
    "    except sqlite3.Error as error:\n",
    "        print(\"Error while executing the UPDATE:\", error)\n",
    "        \n",
    "    \n",
    "    # Close the cursor and connection objects\n",
    "    cursor.close()\n",
    "    conn.close()\n",
    "    \n",
    "update()\n"
   ]
  },
  {
   "attachments": {},
   "cell_type": "markdown",
   "metadata": {},
   "source": [
    "## Delete a User in table in Sqlite.db\n",
    "> Uses a delete function to remove a user based on a user input of the id.\n",
    "- Is DELETE a dangerous operation?  Why?\n",
    "  - Yes because it can result in the entire database being deleted unintentionally if not used carefully.\n",
    "- In the print statemements, what is the \"f\" and what does {uid} do?\n",
    "  - The f in the print statement is used to format the string so that the variables are inserted into the string correctly. The {uid} is used to print the user id in question."
   ]
  },
  {
   "cell_type": "code",
   "execution_count": 16,
   "metadata": {},
   "outputs": [
    {
     "name": "stdout",
     "output_type": "stream",
     "text": [
      "The row with uid bob was successfully deleted\n"
     ]
    }
   ],
   "source": [
    "import sqlite3\n",
    "\n",
    "def delete():\n",
    "    uid = input(\"Enter user id to delete\")\n",
    "\n",
    "    # Connect to the database file\n",
    "    conn = sqlite3.connect(database)\n",
    "\n",
    "    # Create a cursor object to execute SQL commands\n",
    "    cursor = conn.cursor()\n",
    "    \n",
    "    try:\n",
    "        cursor.execute(\"DELETE FROM users WHERE _uid = ?\", (uid,))\n",
    "        if cursor.rowcount == 0:\n",
    "            # The uid was not found in the table\n",
    "            print(f\"No uid {uid} was not found in the table\")\n",
    "        else:\n",
    "            # The uid was found in the table and the row was deleted\n",
    "            print(f\"The row with uid {uid} was successfully deleted\")\n",
    "        conn.commit()\n",
    "    except sqlite3.Error as error:\n",
    "        print(\"Error while executing the DELETE:\", error)\n",
    "        \n",
    "    # Close the cursor and connection objects\n",
    "    cursor.close()\n",
    "    conn.close()\n",
    "    \n",
    "delete()"
   ]
  },
  {
   "attachments": {},
   "cell_type": "markdown",
   "metadata": {},
   "source": [
    "# Menu Interface to CRUD operations\n",
    "> CRUD and Schema interactions from one location by running menu. Observe input at the top of VSCode, observe output underneath code cell.\n",
    "- Why does the menu repeat?\n",
    "  - The menu repeats so that the user can do infinite operations until they are entirely finished with their task at hand.\n",
    "- Could you refactor this menu?  Make it work with a List?\n",
    "  - Yes, the menu could be made with boolean statements, which while the menu is run, the boolean stays true. When an operation is run, the same type of statements can be used, however it would be based on a list with all the operations that are needed."
   ]
  },
  {
   "cell_type": "code",
   "execution_count": 19,
   "metadata": {},
   "outputs": [
    {
     "name": "stdout",
     "output_type": "stream",
     "text": [
      "(1, 'Thomas Edison', 'toby', 'sha256$TQURtPApzAS2cPDF$1be74793f8c070f30c50425e7582f3025f9b279f6eed58491911703696ad68d1', '1847-02-11')\n",
      "(2, 'Nikola Tesla', 'niko', 'sha256$GhccXSpMYXjIwFML$075a945f8c54d84a0a2611354b7f5dae99cc0b3f54b7df78851404188c284fed', '2023-03-16')\n",
      "(3, 'Alexander Graham Bell', 'lex', 'sha256$jqTPzLjvbQgeh8bG$28da180fef3edf1c180b4477e5f9bafd6f9a4e73a8e85edaf09270010985da63', '2023-03-16')\n",
      "(4, 'Eli Whitney', 'whit', 'sha256$pbF5qPk2GTCPc0b1$79c57b36e6ea729c097c7fe6f26439c82594063b494662e55f9fe5428b66d0a4', '2023-03-16')\n",
      "(5, 'Indiana Jones', 'indi', 'sha256$5DG454cE4PYG5NUX$bb8c02ab6534340c76346682f81b37caab006dbc5798185c6e78f98c3e852ad0', '1920-10-21')\n",
      "(6, 'Marion Ravenwood', 'raven', 'sha256$smSiEHFDg6JAv9mJ$e53e491e9b684d37dd2c7b14c07443578a0c2f70c8908b1610d0e6d866ba39b0', '1921-10-21')\n",
      "(7, 'bob', 'bob', 'aiosuhf', '1204-01-34')\n",
      "(1, 'Thomas Edison', 'toby', 'sha256$TQURtPApzAS2cPDF$1be74793f8c070f30c50425e7582f3025f9b279f6eed58491911703696ad68d1', '1847-02-11')\n",
      "(2, 'Nikola Tesla', 'niko', 'sha256$GhccXSpMYXjIwFML$075a945f8c54d84a0a2611354b7f5dae99cc0b3f54b7df78851404188c284fed', '2023-03-16')\n",
      "(3, 'Alexander Graham Bell', 'lex', 'sha256$jqTPzLjvbQgeh8bG$28da180fef3edf1c180b4477e5f9bafd6f9a4e73a8e85edaf09270010985da63', '2023-03-16')\n",
      "(4, 'Eli Whitney', 'whit', 'sha256$pbF5qPk2GTCPc0b1$79c57b36e6ea729c097c7fe6f26439c82594063b494662e55f9fe5428b66d0a4', '2023-03-16')\n",
      "(5, 'Indiana Jones', 'indi', 'sha256$5DG454cE4PYG5NUX$bb8c02ab6534340c76346682f81b37caab006dbc5798185c6e78f98c3e852ad0', '1920-10-21')\n",
      "(6, 'Marion Ravenwood', 'raven', 'sha256$smSiEHFDg6JAv9mJ$e53e491e9b684d37dd2c7b14c07443578a0c2f70c8908b1610d0e6d866ba39b0', '1921-10-21')\n",
      "(7, 'bob', 'bob', 'aiosuhf', '1204-01-34')\n"
     ]
    }
   ],
   "source": [
    "# Menu, to run other cells from one control point\n",
    "def menu():\n",
    "    operation = input(\"Enter: (C)reate (R)ead (U)pdate or (D)elete or (S)chema\")\n",
    "    if operation.lower() == 'c':\n",
    "        create()\n",
    "    elif operation.lower() == 'r':\n",
    "        read()\n",
    "    elif operation.lower() == 'u':\n",
    "        update()\n",
    "    elif operation.lower() == 'd':\n",
    "        delete()\n",
    "    elif operation.lower() == 's':\n",
    "        schema()\n",
    "    elif len(operation)==0: # Escape Key\n",
    "        return\n",
    "    else:\n",
    "        print(\"Please enter c, r, u, or d\") \n",
    "    menu() # recursion, repeat menu\n",
    "        \n",
    "try:\n",
    "    menu() # start menu\n",
    "except:\n",
    "    print(\"Perform Jupyter 'Run All' prior to starting menu\")\n"
   ]
  },
  {
   "attachments": {},
   "cell_type": "markdown",
   "metadata": {},
   "source": [
    "# Hacks\n",
    "- Add this Blog to you own Blogging site.  In the Blog add notes and observations on each code cell.\n",
    "- In this implementation, do you see procedural abstraction?\n",
    "- In 2.4a or 2.4b lecture\n",
    "    - Do you see data abstraction?  Complement this with Debugging example.\n",
    "        - Yes, there is data abstraction in both examples of databases being created. There are classes and objects used to simplify how the data is stored in the database. There are also libraries used, which are imported in order to simplify the code and to allow complex operations to the used without the need for thousands of lines of code. An example of this can be seen when the code is debugged and, in my example, a Car class is made to organize the data entered.\n",
    "\n",
    "        ![](https://user-images.githubusercontent.com/111480448/226267127-abe1a867-7869-44f0-a04c-75aed8a4b7b8.png)\n",
    "\n",
    "    - Use Imperative or OOP style to Create a new Table or do something that applies to your CPT project.\n",
    "    \n",
    "\n",
    "Reference... [sqlite documentation](https://www.sqlitetutorial.net/sqlite-python/creating-tables/)\n"
   ]
  },
  {
   "cell_type": "code",
   "execution_count": 11,
   "metadata": {},
   "outputs": [
    {
     "name": "stdout",
     "output_type": "stream",
     "text": [
      "Error while executing the INSERT: unrecognized token: \"{\"\n"
     ]
    }
   ],
   "source": [
    "import sqlite3\n",
    "\n",
    "db_n = input(\"What name do you want your database to be?\")\n",
    "tab_n = input(\"What name do you want your table to be?\")\n",
    "\n",
    "db = 'instance/'+db_n+'.db'\n",
    "\n",
    "def schema():\n",
    "    \n",
    "    conn = sqlite3.connect(db)\n",
    "\n",
    "    cursor = conn.cursor()\n",
    "    \n",
    "    results = cursor.execute(\"PRAGMA table_info('car')\").fetchall()\n",
    "\n",
    "    for row in results:\n",
    "        print(row)\n",
    "\n",
    "    conn.close()\n",
    "    \n",
    "schema()\n",
    "\n",
    "def read():\n",
    "    conn = sqlite3.connect(db)\n",
    "\n",
    "    cursor = conn.cursor()\n",
    "    \n",
    "    results = cursor.execute('SELECT * FROM {tab_n}').fetchall()\n",
    "\n",
    "    if len(results) == 0:\n",
    "        print(\"Table is empty\")\n",
    "    else:\n",
    "        for row in results:\n",
    "            print(row)\n",
    "\n",
    "    cursor.close()\n",
    "    conn.close()\n",
    "\n",
    "def create():\n",
    "    manufacturer = input(\"Enter the manufacturer of the car:\")\n",
    "    model = input(\"Enter the model of the car:\")\n",
    "    price = input(\"Enter the price of the car:\")\n",
    "    \n",
    "    conn = sqlite3.connect(db)\n",
    "\n",
    "    cursor = conn.cursor()\n",
    "\n",
    "    try:\n",
    "        cursor.execute(\"INSERT INTO {tab_n} (_manufacturer, _model, _price) VALUES (?, ?, ?)\", (manufacturer, model, price))\n",
    "        \n",
    "        conn.commit()\n",
    "        print(f\"A new car record {model} has been created\")\n",
    "                \n",
    "    except sqlite3.Error as error:\n",
    "        print(\"Error while executing the INSERT:\", error)\n",
    "\n",
    "    cursor.close()\n",
    "    conn.close()\n",
    "\n",
    "def update():\n",
    "    model = input(\"Enter the model to update\")\n",
    "    price = input(\"Enter updated price\")\n",
    "\n",
    "    conn = sqlite3.connect(db)\n",
    "\n",
    "    cursor = conn.cursor()\n",
    "\n",
    "    try:\n",
    "        cursor.execute(\"UPDATE {tab_n} SET _price = ? WHERE _model = ?\", (price, model))\n",
    "        if cursor.rowcount == 0:\n",
    "            print(f\"No model {model} was not found in the table\")\n",
    "        else:\n",
    "            print(f\"The row with model {model} the password has been successfully updated\")\n",
    "            conn.commit()\n",
    "    except sqlite3.Error as error:\n",
    "        print(\"Error while executing the UPDATE:\", error)\n",
    "        \n",
    "    cursor.close()\n",
    "    conn.close()\n",
    "\n",
    "def delete():\n",
    "    model = input(\"Enter car model to delete\")\n",
    "\n",
    "    conn = sqlite3.connect(db)\n",
    "\n",
    "    cursor = conn.cursor()\n",
    "\n",
    "    try:\n",
    "        cursor.execute(\"DELETE FROM {tab_n} WHERE _model = ?\", (model,))\n",
    "        if cursor.rowcount == 0:\n",
    "            print(f\"No model {model} was not found in the table\")\n",
    "        else:\n",
    "            print(f\"The row with model {model} was successfully deleted\")\n",
    "        conn.commit()\n",
    "    except sqlite3.Error as error:\n",
    "        print(\"Error while executing the DELETE:\", error)\n",
    "        \n",
    "    cursor.close()\n",
    "    conn.close()\n",
    "\n",
    "def menu():\n",
    "    operations = ['c', 'r', 'u', 'd', 's']\n",
    "    while True:\n",
    "        operation = input(\"Enter: (C)reate (R)ead (U)pdate or (D)elete or (S)chema\")\n",
    "        if operation.lower() in operations:\n",
    "            if operation.lower() == 'c':\n",
    "                create()\n",
    "            elif operation.lower() == 'r':\n",
    "                read()\n",
    "            elif operation.lower() == 'u':\n",
    "                update()\n",
    "            elif operation.lower() == 'd':\n",
    "                delete()\n",
    "            elif operation.lower() == 's':\n",
    "                schema()\n",
    "        elif len(operation) == 0:\n",
    "            return\n",
    "        else:\n",
    "            print(\"Please enter c, r, u, or d\") \n",
    "        \n",
    "try:\n",
    "    menu()\n",
    "except:\n",
    "    print(\"Perform Jupyter 'Run All' prior to starting menu\")"
   ]
  }
 ],
 "metadata": {
  "kernelspec": {
   "display_name": "base",
   "language": "python",
   "name": "python3"
  },
  "language_info": {
   "codemirror_mode": {
    "name": "ipython",
    "version": 3
   },
   "file_extension": ".py",
   "mimetype": "text/x-python",
   "name": "python",
   "nbconvert_exporter": "python",
   "pygments_lexer": "ipython3",
   "version": "3.9.12"
  },
  "orig_nbformat": 4,
  "vscode": {
   "interpreter": {
    "hash": "8b82d5009c68ba5675978267e2b13a671f2a7143d61273c5a3813c97e0b2493d"
   }
  }
 },
 "nbformat": 4,
 "nbformat_minor": 2
}
