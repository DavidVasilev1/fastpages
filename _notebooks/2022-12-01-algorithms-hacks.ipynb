{
 "cells": [
  {
   "cell_type": "markdown",
   "metadata": {},
   "source": [
    "# Algorithms and Logic Javascript Hacks\n",
    "- layout: post\n",
    "- description: Algorithms and Logic Javascript Hacks\n",
    "- categories: [Markdown, Trimester 2, Tri 2 Assignments, Javascript, HTML, Python]\n",
    "- toc: true"
   ]
  },
  {
   "cell_type": "markdown",
   "metadata": {},
   "source": [
    "## Fibonacci - Python"
   ]
  },
  {
   "cell_type": "code",
   "execution_count": 18,
   "metadata": {},
   "outputs": [
    {
     "name": "stdout",
     "output_type": "stream",
     "text": [
      "You have selected a list of 10 numbers.\n",
      "Here is your list: \n",
      "0\n",
      "1\n",
      "1\n",
      "2\n",
      "3\n",
      "5\n",
      "8\n",
      "13\n",
      "21\n",
      "34\n"
     ]
    }
   ],
   "source": [
    "\n",
    "def fib(n):\n",
    "  nums = []\n",
    "  for i in range(n):\n",
    "    if i == 0:\n",
    "      print(\"0\")\n",
    "      nums.append(0)\n",
    "    elif i == 1:\n",
    "      print(\"1\")\n",
    "      nums.append(1)\n",
    "    else:\n",
    "      print(nums[i-2] + nums[i-1])\n",
    "      nums.append(nums[i-1] + nums[i-2])\n",
    "\n",
    "\n",
    "size = int(input(\"Select how many characters you want your sequence to be:\"))\n",
    "print(\"You have selected a list of \" + str(size) + \" numbers.\")\n",
    "print(\"Here is your list: \")\n",
    "fib(size)\n",
    "\n",
    "\n"
   ]
  },
  {
   "cell_type": "markdown",
   "metadata": {},
   "source": [
    "## Fibonacci - Javascript\n",
    "\n",
    "![](./my_icons/fib-java.png)"
   ]
  },
  {
   "cell_type": "markdown",
   "metadata": {},
   "source": [
    "<html>\n",
    "    <input id=\"charNum\">\n",
    "    <button id=\"setNum\" onclick=\"p()\">Submit</button>\n",
    "    <p>You have selected a list of this many numbers: <p id=\"Num\"></p></p>\n",
    "    <p>Here is your Fibonacci sequence:</p>\n",
    "    <ul id=\"Nums\"></ul>\n",
    "<script>\n",
    "    function fib(n) {\n",
    "        var nums = []\n",
    "        for (let i = 0; i < n; i++) {\n",
    "            if (i===0) {\n",
    "                nums.push(0)\n",
    "                console.log(\"0\")\n",
    "            } else if (i===1) {\n",
    "                nums.push(1)\n",
    "                console.log(\"1\")\n",
    "            } else {\n",
    "                nums.push(nums[i-2] + nums[i-1])\n",
    "                console.log(nums[i-2] + nums[i-1])\n",
    "            }\n",
    "        }\n",
    "        let list = document.getElementById(\"Nums\");\n",
    "        nums.forEach((n)=>{\n",
    "            let li = document.createElement(\"li\");\n",
    "            li.innerText = n;\n",
    "            list.appendChild(li);\n",
    "        })\n",
    "    }\n",
    "    function p() {\n",
    "        var char = document.getElementById(\"charNum\").value\n",
    "        document.getElementById(\"Num\").innerHTML = char\n",
    "        fib(char)\n",
    "    }\n",
    "</script>\n",
    "</html>"
   ]
  },
  {
   "cell_type": "markdown",
   "metadata": {},
   "source": [
    "## Palindromes - Javascript"
   ]
  },
  {
   "cell_type": "markdown",
   "metadata": {},
   "source": [
    "<html>\n",
    "  <input id=\"pal\">\n",
    "  <button id=\"setPal\" onclick=\"ReverseString()\">Submit</button>\n",
    "  <p id=\"finPal\"></p>\n",
    "  <script>\n",
    "    // document.getElementById(\"pal\").addEventListener(\"dif\", Pal)\n",
    "    // function Pal() {\n",
    "    //   console.log(document.getElementById(\"pal\").value)\n",
    "    //   const input = document.getElementById(\"pal\").value\n",
    "    //   var rev = \"\"\n",
    "    //   for (var i = input.length - 1; i >= 0; i--) {\n",
    "    //     rev += input[i];\n",
    "    //   }\n",
    "    //   console.log(rev)\n",
    "    // }\n",
    "    function ReverseString() {\n",
    "      var list = document.getElementById(\"pal\");\n",
    "      return list.split('').reverse().join('')\n",
    "    }\n",
    "    console.log(ReverseString())\n",
    "  </script>\n",
    "</html>"
   ]
  }
 ],
 "metadata": {
  "kernelspec": {
   "display_name": "Python 3.9.12 ('base')",
   "language": "python",
   "name": "python3"
  },
  "language_info": {
   "codemirror_mode": {
    "name": "ipython",
    "version": 3
   },
   "file_extension": ".py",
   "mimetype": "text/x-python",
   "name": "python",
   "nbconvert_exporter": "python",
   "pygments_lexer": "ipython3",
   "version": "3.9.12"
  },
  "orig_nbformat": 4,
  "vscode": {
   "interpreter": {
    "hash": "9c393114422054e1f55815341def6ca2b946d6f97dc3f0838fd9643422e0df74"
   }
  }
 },
 "nbformat": 4,
 "nbformat_minor": 2
}
