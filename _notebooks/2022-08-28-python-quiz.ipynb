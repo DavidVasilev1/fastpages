{
 "cells": [
  {
   "cell_type": "markdown",
   "metadata": {},
   "source": [
    "# Python Quiz\n",
    ">A quiz created using Python.\n",
    "\n",
    "- title: Python Quiz\n",
    "- toc: true\n",
    "- categories: [Jupyter, Trimester 1, Tri 1 Assignments]\n",
    "- comments: true"
   ]
  },
  {
   "cell_type": "code",
   "execution_count": 5,
   "metadata": {},
   "outputs": [
    {
     "name": "stdout",
     "output_type": "stream",
     "text": [
      "Hello, davidv running /bin/python3\n",
      "You will be asked 5 questions.\n",
      "Question: Are you ready to take a test?\n",
      "Lets Start!\n",
      "Question: What command is used to include other functions that were previously developed?\n",
      "import is correct!\n",
      "Question: What command is used to evaluate correct or incorrect response in this example?\n",
      "if is correct!\n",
      "Question: Each 'if' command contains an '_________' to determine a true or false condition?\n",
      "expression is correct!\n",
      "Question: What are words surrounded by quotation marks called?\n",
      "strings is correct!\n",
      "Question: What tab in Github is used to monitor the status of the changes you push?\n",
      "actions is correct!\n",
      "davidv you scored 5/5 or 100.0%\n"
     ]
    }
   ],
   "source": [
    "import getpass, sys\n",
    "\n",
    "def question_with_response(prompt): #defines question_and_response\n",
    "    print(\"Question: \" + prompt) #prompts the user with the phrase \"Question:\" and the question\n",
    "    msg = input() #takes the input of the user\n",
    "    return msg #returns string value\n",
    "\n",
    "questions = 5 #total number of questions asked\n",
    "correct = 0 #default number of questions correct\n",
    "\n",
    "print('Hello, ' + getpass.getuser() + \" running \" + sys.executable) #prints the greeting of the test\n",
    "print(\"You will be asked \" + str(questions) + \" questions.\") #prints the amount of questions that are going to be asked\n",
    "rsp = question_with_response(\"Are you ready to take a test?\") #asks for user input before starting the test\n",
    "if rsp == \"yes\": #compares the user's input to the correct answer, which is \"import\"\n",
    "    print(\"Lets Start!\") #if the answer is correct, this runs\n",
    "else: #goes to this if the answer does not equal the correct answer\n",
    "    print(rsp + \" is incorrect!\") #if the answer is incorrect, this runs\n",
    "\n",
    "rsp = question_with_response(\"What command is used to include other functions that were previously developed?\") #question is asked\n",
    "if rsp == \"import\": #compares the user's input to the correct answer, which is \"import\"\n",
    "    print(rsp + \" is correct!\") #if the answer is correct, this runs\n",
    "    correct += 1 #adds one to the number of correct answers\n",
    "else: #goes to this if the answer does not equal the correct answer\n",
    "    print(rsp + \" is incorrect!\") #if the answer is incorrect, this runs\n",
    "\n",
    "rsp = question_with_response(\"What command is used to evaluate correct or incorrect response in this example?\") #question is asked\n",
    "if rsp == \"if\": #compares the user's input to the correct answer, which is \"if\"\n",
    "    print(rsp + \" is correct!\") #if the answer is correct, this runs\n",
    "    correct += 1 #adds one to the number of correct answers\n",
    "else: #goes to this if the answer does not equal the correct answer\n",
    "    print(rsp + \" is incorrect!\") #if the answer is incorrect, this runs\n",
    "\n",
    "rsp = question_with_response(\"Each 'if' command contains an '_________' to determine a true or false condition?\") #question is asked\n",
    "if rsp == \"expression\": #compares the user's input to the correct answer, which is \"expression\"\n",
    "    print(rsp + \" is correct!\") #if the answer is correct, this runs\n",
    "    correct += 1 #adds one to the number of correct answers\n",
    "else: #goes to this if the answer does not equal the correct answer\n",
    "    print(rsp + \" is incorrect!\") #if the answer is incorrect, this runs\n",
    "\n",
    "rsp = question_with_response(\"What are words surrounded by quotation marks called?\") #question is asked\n",
    "if rsp == \"strings\": #compares the user's input to the correct answer, which is \"wsl\"\n",
    "    print(rsp + \" is correct!\") #if the answer is correct, this runs\n",
    "    correct += 1 #adds one to the number of correct answers\n",
    "else: #goes to this if the answer does not equal the correct answer\n",
    "    print(rsp + \" is incorrect!\") #if the answer is incorrect, this runs\n",
    "\n",
    "rsp = question_with_response(\"What tab in Github is used to monitor the status of the changes you push?\") #question is asked\n",
    "if rsp == \"actions\": #compares the user's input to the correct answer, which is \"actions\"\n",
    "    print(rsp + \" is correct!\") #if the answer is correct, this runs\n",
    "    correct += 1 #adds one to the number of correct answers\n",
    "else: #goes to this if the answer does not equal the correct answer\n",
    "    print(rsp + \" is incorrect!\") #if the answer is incorrect, this runs\n",
    "\n",
    "quotient = correct / questions #defines quotient\n",
    "ptge = quotient * 100 #defines ptge\n",
    "\n",
    "print(getpass.getuser() + \" you scored \" + str(correct) +\"/\" + str(questions) + \" or \" + str(ptge) + \"%\") #this prints the score that the user gets"
   ]
  }
 ],
 "metadata": {
  "kernelspec": {
   "display_name": "Python 3.8.10 64-bit",
   "language": "python",
   "name": "python3"
  },
  "language_info": {
   "codemirror_mode": {
    "name": "ipython",
    "version": 3
   },
   "file_extension": ".py",
   "mimetype": "text/x-python",
   "name": "python",
   "nbconvert_exporter": "python",
   "pygments_lexer": "ipython3",
   "version": "3.8.10"
  },
  "orig_nbformat": 4,
  "vscode": {
   "interpreter": {
    "hash": "916dbcbb3f70747c44a77c7bcd40155683ae19c65e1c03b4aa3499c5328201f1"
   }
  }
 },
 "nbformat": 4,
 "nbformat_minor": 2
}
