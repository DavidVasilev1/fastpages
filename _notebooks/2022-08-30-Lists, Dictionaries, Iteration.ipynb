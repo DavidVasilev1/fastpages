{
 "cells": [
  {
   "cell_type": "markdown",
   "metadata": {},
   "source": [
    "# Lists, Dictionaries, Iteration Notes\n",
    ">Some notes on how python works.\n",
    "\n",
    "- title: Lists, Dictionaries, Iteration Notes\n",
    "- toc: true\n",
    "- categories: [Jupyter, Trimester 1, Tri 1 Notes]\n",
    "- comments: true"
   ]
  },
  {
   "cell_type": "markdown",
   "metadata": {},
   "source": [
    "## Types of Variables in Python"
   ]
  },
  {
   "cell_type": "code",
   "execution_count": 3,
   "metadata": {},
   "outputs": [
    {
     "name": "stdout",
     "output_type": "stream",
     "text": [
      "What is the variable name/key? value? type? primitive or collection, why?\n",
      "name David Vasilev <class 'str'>\n",
      "\n",
      "What is the variable name/key? value? type? primitive or collection, why?\n",
      "age 16 <class 'int'>\n",
      "\n",
      "What is the variable name/key? value? type? primitive or collection, why?\n",
      "score 100.0 <class 'float'>\n",
      "\n",
      "What is variable name/key? value? type? primitive or collection?\n",
      "What is different about the list output?\n",
      "langs ['Python', 'JavaScript', 'Java', 'Bash'] <class 'list'> length 4\n",
      "- langs[0] Python <class 'str'>\n",
      "\n",
      "What is the variable name/key? value? type? primitive or collection, why?\n",
      "What is different about the dictionary output?\n",
      "person {'name': 'David Vasilev', 'age': 16, 'score': 100.0, 'langs': ['Python', 'JavaScript', 'Java', 'Bash']} <class 'dict'> length 4\n",
      "- person[\"name\"] David Vasilev <class 'str'>\n"
     ]
    }
   ],
   "source": [
    "# Sample of Python Variables\n",
    "\n",
    "# variable of type string\n",
    "print(\"What is the variable name/key?\", \"value?\", \"type?\", \"primitive or collection, why?\")\n",
    "name = \"David Vasilev\"\n",
    "print(\"name\", name, type(name))\n",
    "\n",
    "print()\n",
    "\n",
    "\n",
    "# variable of type integer\n",
    "print(\"What is the variable name/key?\", \"value?\", \"type?\", \"primitive or collection, why?\")\n",
    "age = 16\n",
    "print(\"age\", age, type(age))\n",
    "\n",
    "print()\n",
    "\n",
    "# variable of type float\n",
    "print(\"What is the variable name/key?\", \"value?\", \"type?\", \"primitive or collection, why?\")\n",
    "score = 100.0\n",
    "print(\"score\", score, type(score))\n",
    "\n",
    "print()\n",
    "\n",
    "# variable of type list (many values in one variable)\n",
    "print(\"What is variable name/key?\", \"value?\", \"type?\", \"primitive or collection?\")\n",
    "print(\"What is different about the list output?\")\n",
    "langs = [\"Python\", \"JavaScript\", \"Java\", \"Bash\"]\n",
    "print(\"langs\", langs, type(langs), \"length\", len(langs))\n",
    "print(\"- langs[0]\", langs[0], type(langs[0])) #change the number values to change the output from the list\n",
    "\n",
    "print()\n",
    "\n",
    "# variable of type dictionary (a group of keys and values)\n",
    "print(\"What is the variable name/key?\", \"value?\", \"type?\", \"primitive or collection, why?\")\n",
    "print(\"What is different about the dictionary output?\")\n",
    "person = {\n",
    "    \"name\": name,\n",
    "    \"age\": age,\n",
    "    \"score\": score,\n",
    "    \"langs\": langs\n",
    "} #creates a list \n",
    "print(\"person\", person, type(person), \"length\", len(person)) #prints the whole list\n",
    "print('- person[\"name\"]', person[\"name\"], type(person[\"name\"])) #prints one item from the list\n"
   ]
  },
  {
   "cell_type": "markdown",
   "metadata": {},
   "source": [
    "## Lists and Dictionaries\n",
    "\n",
    "- To list data use '.append(expression)'.\n",
    "- Dictionaries define words and then list the corresponding string.\n",
    "- This is a lost of things that are defined by one variable.\n",
    "- In this list there are words that are terms and each term is defined."
   ]
  },
  {
   "cell_type": "code",
   "execution_count": 8,
   "metadata": {},
   "outputs": [
    {
     "name": "stdout",
     "output_type": "stream",
     "text": [
      "[{'FirstName': 'David', 'LastName': 'Vasilev', 'DOB': 'May 27', 'Residence': 'San Diego', 'Email': 'davidv42185@stu.powayusd.com', 'Owns_Cars': ['McLaren 720s, Ferrari 488']}, {'FirstName': 'Akshat', 'LastName': 'Parikh', 'DOB': 'December 28', 'Residence': 'San Diego', 'Email': 'akshat1228@gmail.com', 'Owns_Cars': ['Rolls Royce Culinan, Mercedes Maybach, Mercedes G-Wagon, Ashton Martin Vantage']}, {'FirstName': 'Bob', 'LastName': 'Smith', 'DOB': 'January 1', 'Residence': 'New York', 'Email': 'bobsmith@gmail.com', 'Owns_Cars': ['Toyota', 'Ford']}]\n"
     ]
    }
   ],
   "source": [
    "# Define an empty List called InfoDb\n",
    "InfoDb = []\n",
    "\n",
    "# InfoDB is a data structure with expected Keys and Values\n",
    "\n",
    "# My Dictionary\n",
    "InfoDb.append({\n",
    "    \"FirstName\": \"David\",\n",
    "    \"LastName\": \"Vasilev\",\n",
    "    \"DOB\": \"May 27\",\n",
    "    \"Residence\": \"San Diego\",\n",
    "    \"Email\": \"davidv42185@stu.powayusd.com\",\n",
    "    \"Owns_Cars\": [\"McLaren 720s, Ferrari 488\"]\n",
    "})\n",
    "\n",
    "# Partner Dictionary\n",
    "InfoDb.append({\n",
    "    \"FirstName\": \"Akshat\",\n",
    "    \"LastName\": \"Parikh\",\n",
    "    \"DOB\": \"December 28\",\n",
    "    \"Residence\": \"San Diego\",\n",
    "    \"Email\": \"akshat1228@gmail.com\",\n",
    "    \"Owns_Cars\": [\"Rolls Royce Culinan, Mercedes Maybach, Mercedes G-Wagon, Ashton Martin Vantage\"]\n",
    "})\n",
    "\n",
    "# Random Person Dictionary\n",
    "InfoDb.append({\n",
    "    \"FirstName\": \"Bob\",\n",
    "    \"LastName\": \"Smith\",\n",
    "    \"DOB\": \"January 1\",\n",
    "    \"Residence\": \"New York\",\n",
    "    \"Email\": \"bobsmith@gmail.com\",\n",
    "    \"Owns_Cars\": [\"Toyota\", \"Ford\"]\n",
    "})\n",
    "\n",
    "# Print the data structure\n",
    "print(InfoDb)"
   ]
  },
  {
   "cell_type": "markdown",
   "metadata": {},
   "source": [
    "## Formatting List/Dictionary\n",
    "\n",
    "- To start formatting the data, `print_data()` must be used.\n",
    "- `d_rec` must then be used to state that a dictionary record is going to be printed.\n",
    "- Use square brackets [] to place the terms that are going to be printed.\n",
    "- Use `for_loop()` to loop the `InfoDb` dictionary that was defined earlier until there are no more terms to print.\n",
    "- `print_data(record)` is used to pass the dictionary record to the function."
   ]
  },
  {
   "cell_type": "code",
   "execution_count": 9,
   "metadata": {},
   "outputs": [
    {
     "name": "stdout",
     "output_type": "stream",
     "text": [
      "For loop output\n",
      "\n",
      "David Vasilev\n",
      "\t Residence: San Diego\n",
      "\t Birth Day: May 27\n",
      "\t Email: davidv42185@stu.powayusd.com\n",
      "\t Cars: McLaren 720s, Ferrari 488\n",
      "\n",
      "Akshat Parikh\n",
      "\t Residence: San Diego\n",
      "\t Birth Day: December 28\n",
      "\t Email: akshat1228@gmail.com\n",
      "\t Cars: Rolls Royce Culinan, Mercedes Maybach, Mercedes G-Wagon, Ashton Martin Vantage\n",
      "\n",
      "Bob Smith\n",
      "\t Residence: New York\n",
      "\t Birth Day: January 1\n",
      "\t Email: bobsmith@gmail.com\n",
      "\t Cars: Toyota, Ford\n",
      "\n"
     ]
    }
   ],
   "source": [
    "# This jupyter cell has dependencies on one or more cells above\n",
    "\n",
    "# print function: given a dictionary of InfoDb content\n",
    "def print_data(d_rec):\n",
    "    print(d_rec[\"FirstName\"], d_rec[\"LastName\"])  # using comma puts space between values\n",
    "    print(\"\\t\", \"Residence:\", d_rec[\"Residence\"]) # \\t is a tab indent\n",
    "    print(\"\\t\", \"Birth Day:\", d_rec[\"DOB\"])\n",
    "    print(\"\\t\", \"Email:\", d_rec[\"Email\"])\n",
    "    print(\"\\t\", \"Cars: \", end=\"\")  # end=\"\" make sure no return occurs\n",
    "    print(\", \".join(d_rec[\"Owns_Cars\"]))  # join allows printing a string list with separator\n",
    "    print()\n",
    "\n",
    "\n",
    "# for loop algorithm iterates on length of InfoDb\n",
    "def for_loop():\n",
    "    print(\"For loop output\\n\")\n",
    "    for record in InfoDb:\n",
    "        print_data(record)\n",
    "\n",
    "for_loop()"
   ]
  },
  {
   "cell_type": "markdown",
   "metadata": {},
   "source": [
    "## Other Ways to Loop - `while_loop`\n",
    "\n",
    "- `while_loop()` can be used to to count through the number of terms in a dictionary and print it with `while i < len(InfoDb):` and then ending with `print_data()`\n"
   ]
  },
  {
   "cell_type": "code",
   "execution_count": 10,
   "metadata": {},
   "outputs": [
    {
     "name": "stdout",
     "output_type": "stream",
     "text": [
      "While loop output\n",
      "\n",
      "David Vasilev\n",
      "\t Residence: San Diego\n",
      "\t Birth Day: May 27\n",
      "\t Email: davidv42185@stu.powayusd.com\n",
      "\t Cars: McLaren 720s, Ferrari 488\n",
      "\n",
      "Akshat Parikh\n",
      "\t Residence: San Diego\n",
      "\t Birth Day: December 28\n",
      "\t Email: akshat1228@gmail.com\n",
      "\t Cars: Rolls Royce Culinan, Mercedes Maybach, Mercedes G-Wagon, Ashton Martin Vantage\n",
      "\n",
      "Bob Smith\n",
      "\t Residence: New York\n",
      "\t Birth Day: January 1\n",
      "\t Email: bobsmith@gmail.com\n",
      "\t Cars: Toyota, Ford\n",
      "\n"
     ]
    }
   ],
   "source": [
    "# This jupyter cell has dependencies on one or more cells above\n",
    "\n",
    "# while loop algorithm contains an initial n and an index incrementing statement (n += 1)\n",
    "def while_loop():\n",
    "    print(\"While loop output\\n\")\n",
    "    i = 0\n",
    "    while i < len(InfoDb):\n",
    "        record = InfoDb[i]\n",
    "        print_data(record)\n",
    "        i += 1\n",
    "    return\n",
    "\n",
    "while_loop()"
   ]
  },
  {
   "cell_type": "markdown",
   "metadata": {},
   "source": [
    "## Repeating a Function - Recursion\n",
    "\n",
    "- `recursive_loop(i)` is used to activate the function with `i=0`\n",
    "- `recursive_loop(i + 1)` adds one to `i`, which moves through the function\n",
    "- when `if i < len(InfoDb):` the program ends because there is nothing left to print"
   ]
  },
  {
   "cell_type": "code",
   "execution_count": 11,
   "metadata": {},
   "outputs": [
    {
     "name": "stdout",
     "output_type": "stream",
     "text": [
      "Recursive loop output\n",
      "\n",
      "David Vasilev\n",
      "\t Residence: San Diego\n",
      "\t Birth Day: May 27\n",
      "\t Email: davidv42185@stu.powayusd.com\n",
      "\t Cars: McLaren 720s, Ferrari 488\n",
      "\n",
      "Akshat Parikh\n",
      "\t Residence: San Diego\n",
      "\t Birth Day: December 28\n",
      "\t Email: akshat1228@gmail.com\n",
      "\t Cars: Rolls Royce Culinan, Mercedes Maybach, Mercedes G-Wagon, Ashton Martin Vantage\n",
      "\n",
      "Bob Smith\n",
      "\t Residence: New York\n",
      "\t Birth Day: January 1\n",
      "\t Email: bobsmith@gmail.com\n",
      "\t Cars: Toyota, Ford\n",
      "\n"
     ]
    }
   ],
   "source": [
    "# This jupyter cell has dependencies on one or more cells above\n",
    "\n",
    "# recursion algorithm loops incrementing on each call (n + 1) until exit condition is met\n",
    "def recursive_loop(i):\n",
    "    if i < len(InfoDb):\n",
    "        record = InfoDb[i]\n",
    "        print_data(record)\n",
    "        recursive_loop(i + 1)\n",
    "    return\n",
    "    \n",
    "print(\"Recursive loop output\\n\")\n",
    "recursive_loop(0)"
   ]
  },
  {
   "cell_type": "markdown",
   "metadata": {},
   "source": [
    "## Hacks Questions\n",
    "\n",
    "- Would it be possible to output data in a reverse order?\n",
    "\n",
    "Yes, a loop and `reversed()` can be used to reverse the order of the printed dictionary.\n",
    "\n",
    "- Are there other methods that can be performed on lists?\n",
    "\n",
    "Lists can be used to create quizzes and listing items, such as shopping lists and data about a certain entity.\n",
    "\n",
    "- Could you create new or add to dictionary data set? Could you do it with input?\n",
    "\n",
    "You can add to a dictionary data set by creating and defining a new list. You could ask the user for an input and then store their input as a list, which can later be outputted when called upon."
   ]
  },
  {
   "cell_type": "markdown",
   "metadata": {},
   "source": [
    "## Python Quiz Using Dictionaries\n",
    "\n",
    "- This is an example of a quiz that uses dictionaries to store the questions and answers."
   ]
  },
  {
   "cell_type": "code",
   "execution_count": 15,
   "metadata": {},
   "outputs": [
    {
     "name": "stdout",
     "output_type": "stream",
     "text": [
      "Hello, davidv running /bin/python3\n",
      "You will be asked 5 questions.\n",
      "Question: Are you ready to take a test?\n",
      "Lets Start!\n",
      "What command is used to include other functions that were previously developed?\n",
      "import is the correct answer!\n",
      "What command is used to evaluate correct or incorrect response in this example?\n",
      "if is the correct answer!\n",
      "Each 'if' command contains an '_________' to determine a true or false condition?\n",
      "expression is the correct answer!\n",
      "What are words surrounded by quotation marks called?\n",
      "strings is the correct answer!\n",
      "What tab in Github is used to monitor the status of the changes you push?\n",
      "actions is the correct answer!\n",
      "davidv you scored 5/5 or 100.0%\n"
     ]
    }
   ],
   "source": [
    "import getpass, sys # importing libraries for quiz\n",
    "def question_and_answer(prompt):\n",
    "    print(\"Question:\" + prompt)\n",
    "    msg = input(\"Question:\" +prompt)\n",
    "    print(\"Answer:\" + msg)\n",
    "def question_with_response(prompt):\n",
    "    print(\"Question: \" + prompt)\n",
    "    msg = input(\"Question: \" + prompt)\n",
    "    return msg\n",
    "\n",
    "q_list = []\n",
    "q_list.append({\n",
    "    \"Question\": \"What command is used to include other functions that were previously developed?\",\n",
    "    \"Answer\": \"import\",\n",
    "\n",
    "})\n",
    "\n",
    "q_list.append({\n",
    "    \"Question\": \"What command is used to evaluate correct or incorrect response in this example?\",\n",
    "    \"Answer\": \"if\",\n",
    "\n",
    "})\n",
    "\n",
    "q_list.append({\n",
    "    \"Question\": \"Each 'if' command contains an '_________' to determine a true or false condition?\",\n",
    "    \"Answer\": \"expression\",\n",
    "\n",
    "})\n",
    "\n",
    "q_list.append({\n",
    "    \"Question\": \"What are words surrounded by quotation marks called?\",\n",
    "    \"Answer\": \"strings\",\n",
    "\n",
    "})\n",
    "\n",
    "q_list.append({\n",
    "    \"Question\": \"What tab in Github is used to monitor the status of the changes you push?\",\n",
    "    \"Answer\": \"actions\",\n",
    "\n",
    "})\n",
    "\n",
    "questions = len(q_list) #total number of questions asked\n",
    "correct = 0 #default number of questions correct\n",
    "\n",
    "print('Hello, ' + getpass.getuser() + \" running \" + sys.executable) #prints the greeting of the test\n",
    "print(\"You will be asked \" + str(questions) + \" questions.\") #prints the amount of questions that are going to be asked\n",
    "\n",
    "rsp = question_with_response(\"Are you ready to take a test?\") #asks for user input before starting the test\n",
    "if rsp == \"yes\": #compares the user's input to the correct answer, which is \"import\"\n",
    "    print(\"Lets Start!\")\n",
    "\n",
    "    for question in q_list:\n",
    "        print(question[\"Question\"])\n",
    "        response = input(question[\"Question\"])\n",
    "        if response == question[\"Answer\"]:\n",
    "            print(response + \" is the correct answer!\")\n",
    "            correct = correct + 1\n",
    "        else:\n",
    "            print(response + \" is incorrect.\")\n",
    "    quotient = correct / questions #defines quotient\n",
    "    ptge = quotient * 100 #defines ptge\n",
    "\n",
    "    print(getpass.getuser() + \" you scored \" + str(correct) +\"/\" + str(questions) + \" or \" + str(ptge) + \"%\") #this prints the score that the user gets"
   ]
  }
 ],
 "metadata": {
  "kernelspec": {
   "display_name": "Python 3.8.10 64-bit",
   "language": "python",
   "name": "python3"
  },
  "language_info": {
   "codemirror_mode": {
    "name": "ipython",
    "version": 3
   },
   "file_extension": ".py",
   "mimetype": "text/x-python",
   "name": "python",
   "nbconvert_exporter": "python",
   "pygments_lexer": "ipython3",
   "version": "3.8.10"
  },
  "orig_nbformat": 4,
  "vscode": {
   "interpreter": {
    "hash": "916dbcbb3f70747c44a77c7bcd40155683ae19c65e1c03b4aa3499c5328201f1"
   }
  }
 },
 "nbformat": 4,
 "nbformat_minor": 2
}
