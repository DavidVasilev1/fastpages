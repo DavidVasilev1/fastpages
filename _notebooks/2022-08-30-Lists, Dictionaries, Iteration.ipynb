{
 "cells": [
  {
   "cell_type": "markdown",
   "metadata": {},
   "source": [
    "# Lists, Dictionaries, Iteration Notes\n",
    ">Some notes on how python works.\n",
    "\n",
    "- title: Lists, Dictionaries, Iteration Notes\n",
    "- toc: true\n",
    "- categories: [Jupyter, Trimester 1, Tri 1 Notes]\n",
    "- comments: true"
   ]
  },
  {
   "cell_type": "markdown",
   "metadata": {},
   "source": [
    "## Types of Variables in Python"
   ]
  },
  {
   "cell_type": "code",
   "execution_count": 3,
   "metadata": {},
   "outputs": [
    {
     "name": "stdout",
     "output_type": "stream",
     "text": [
      "What is the variable name/key? value? type? primitive or collection, why?\n",
      "name David Vasilev <class 'str'>\n",
      "\n",
      "What is the variable name/key? value? type? primitive or collection, why?\n",
      "age 16 <class 'int'>\n",
      "\n",
      "What is the variable name/key? value? type? primitive or collection, why?\n",
      "score 100.0 <class 'float'>\n",
      "\n",
      "What is variable name/key? value? type? primitive or collection?\n",
      "What is different about the list output?\n",
      "langs ['Python', 'JavaScript', 'Java', 'Bash'] <class 'list'> length 4\n",
      "- langs[0] Python <class 'str'>\n",
      "\n",
      "What is the variable name/key? value? type? primitive or collection, why?\n",
      "What is different about the dictionary output?\n",
      "person {'name': 'David Vasilev', 'age': 16, 'score': 100.0, 'langs': ['Python', 'JavaScript', 'Java', 'Bash']} <class 'dict'> length 4\n",
      "- person[\"name\"] David Vasilev <class 'str'>\n"
     ]
    }
   ],
   "source": [
    "# Sample of Python Variables\n",
    "\n",
    "# variable of type string\n",
    "print(\"What is the variable name/key?\", \"value?\", \"type?\", \"primitive or collection, why?\")\n",
    "name = \"David Vasilev\"\n",
    "print(\"name\", name, type(name))\n",
    "\n",
    "print()\n",
    "\n",
    "\n",
    "# variable of type integer\n",
    "print(\"What is the variable name/key?\", \"value?\", \"type?\", \"primitive or collection, why?\")\n",
    "age = 16\n",
    "print(\"age\", age, type(age))\n",
    "\n",
    "print()\n",
    "\n",
    "# variable of type float\n",
    "print(\"What is the variable name/key?\", \"value?\", \"type?\", \"primitive or collection, why?\")\n",
    "score = 100.0\n",
    "print(\"score\", score, type(score))\n",
    "\n",
    "print()\n",
    "\n",
    "# variable of type list (many values in one variable)\n",
    "print(\"What is variable name/key?\", \"value?\", \"type?\", \"primitive or collection?\")\n",
    "print(\"What is different about the list output?\")\n",
    "langs = [\"Python\", \"JavaScript\", \"Java\", \"Bash\"]\n",
    "print(\"langs\", langs, type(langs), \"length\", len(langs))\n",
    "print(\"- langs[0]\", langs[0], type(langs[0])) #change the number values to change the output from the list\n",
    "\n",
    "print()\n",
    "\n",
    "# variable of type dictionary (a group of keys and values)\n",
    "print(\"What is the variable name/key?\", \"value?\", \"type?\", \"primitive or collection, why?\")\n",
    "print(\"What is different about the dictionary output?\")\n",
    "person = {\n",
    "    \"name\": name,\n",
    "    \"age\": age,\n",
    "    \"score\": score,\n",
    "    \"langs\": langs\n",
    "} #creates a list \n",
    "print(\"person\", person, type(person), \"length\", len(person)) #prints the whole list\n",
    "print('- person[\"name\"]', person[\"name\"], type(person[\"name\"])) #prints one item from the list\n"
   ]
  },
  {
   "cell_type": "markdown",
   "metadata": {},
   "source": [
    "## Lists and Dictionaries\n",
    "\n",
    "- To list data use '.append(expression)'.\n",
    "- Dictionaries define words and then list the corresponding string.\n",
    "- This is a lost of things that are defined by one variable.\n",
    "- In this list there are words that are terms and each term is defined."
   ]
  },
  {
   "cell_type": "code",
   "execution_count": 1,
   "metadata": {},
   "outputs": [
    {
     "name": "stdout",
     "output_type": "stream",
     "text": [
      "[{'FirstName': 'David', 'LastName': 'Vasilev', 'DOB': 'May 27', 'Residence': 'San Diego', 'Email': 'davidv42185@powayusd.com', 'Owns_Cars': ['none']}, {'FirstName': 'Bob', 'LastName': 'Smith', 'DOB': 'January 1', 'Residence': 'New York', 'Email': 'bobsmith@gmail.com', 'Owns_Cars': ['Toyota', 'Ford']}]\n"
     ]
    }
   ],
   "source": [
    "# Define an empty List called InfoDb\n",
    "InfoDb = []\n",
    "\n",
    "# InfoDB is a data structure with expected Keys and Values\n",
    "\n",
    "# Append to List a Dictionary of key/values related to a person and cars\n",
    "InfoDb.append({\n",
    "    \"FirstName\": \"David\",\n",
    "    \"LastName\": \"Vasilev\",\n",
    "    \"DOB\": \"May 27\",\n",
    "    \"Residence\": \"San Diego\",\n",
    "    \"Email\": \"davidv42185@powayusd.com\",\n",
    "    \"Owns_Cars\": [\"none\"]\n",
    "})\n",
    "\n",
    "# Append to List a 2nd Dictionary of key/values\n",
    "InfoDb.append({\n",
    "    \"FirstName\": \"Bob\",\n",
    "    \"LastName\": \"Smith\",\n",
    "    \"DOB\": \"January 1\",\n",
    "    \"Residence\": \"New York\",\n",
    "    \"Email\": \"bobsmith@gmail.com\",\n",
    "    \"Owns_Cars\": [\"Toyota\", \"Ford\"]\n",
    "})\n",
    "\n",
    "# Print the data structure\n",
    "print(InfoDb)"
   ]
  },
  {
   "cell_type": "markdown",
   "metadata": {},
   "source": [
    "## Formatting List/Dictionary\n",
    "\n",
    "- To start formatting the data, `print_data()` must be used.\n",
    "- `d_rec` must then be used to state that a dictionary record is going to be printed.\n",
    "- Use square brackets [] to place the terms that are going to be printed.\n",
    "- Use `for_loop()` to loop the `InfoDb` dictionary that was defined earlier until there are no more terms to print.\n",
    "- `print_data(record)` is used to "
   ]
  }
 ],
 "metadata": {
  "kernelspec": {
   "display_name": "Python 3.8.10 64-bit",
   "language": "python",
   "name": "python3"
  },
  "language_info": {
   "codemirror_mode": {
    "name": "ipython",
    "version": 3
   },
   "file_extension": ".py",
   "mimetype": "text/x-python",
   "name": "python",
   "nbconvert_exporter": "python",
   "pygments_lexer": "ipython3",
   "version": "3.8.10"
  },
  "orig_nbformat": 4,
  "vscode": {
   "interpreter": {
    "hash": "916dbcbb3f70747c44a77c7bcd40155683ae19c65e1c03b4aa3499c5328201f1"
   }
  }
 },
 "nbformat": 4,
 "nbformat_minor": 2
}
