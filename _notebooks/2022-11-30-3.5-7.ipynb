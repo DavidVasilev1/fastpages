{
 "cells": [
  {
   "attachments": {},
   "cell_type": "markdown",
   "metadata": {},
   "source": [
    "# Lesson 3.5-3.7\n",
    "> Jupyter Notebook for the rest of the class to follow along with.\n",
    "- toc: true\n",
    "- badges: true\n",
    "- comments: true\n",
    "- categories: [Jupyter, Python, Trimester 2, Notes, Collegeboard, Lesson]"
   ]
  },
  {
   "cell_type": "markdown",
   "metadata": {},
   "source": [
    "# Lesson 3.5 Finn/Jake"
   ]
  },
  {
   "cell_type": "markdown",
   "metadata": {},
   "source": [
    "## What is a Boolean\n",
    "- The defention of a Boolean is a denoting a system of algebraic notation used to represent logical propositions, especially in computing and electronics.\n",
    "- A boolean expresions are either true or false.\n",
    "- Testing if two numbers or variables are equal is a common example.\n",
    "- For example: The sky is blue = True\n",
    "- What do we use to represent them? (Hint think of how domain/range of graph is answered)\n",
    "- How is binary related to this?\n",
    "- How could this be used when asked a question?\n",
    " \n",
    "## Examples (Not part of homework)\n",
    "#### Type the code down below for these two example\n",
    "- Try to make a statement that determines if a variable \"score\" is equal to the number 3\n",
    "- Try to make this score variable have an output if it equals 3\n"
   ]
  },
  {
   "cell_type": "code",
   "execution_count": null,
   "metadata": {},
   "outputs": [],
   "source": [
    "\n",
    "\n",
    "# The code for ex:1\n",
    "\n",
    "# The code for ex:2\n",
    "\n"
   ]
  },
  {
   "cell_type": "markdown",
   "metadata": {},
   "source": [
    "# Relational Operators\n",
    "- The mathmatical relationship between two variables\n",
    "- Determines an output on whether or not the statement is true\n",
    "- a=b, a>b, etc.\n",
    " \n",
    "## Examples (Not part of homework)\n",
    "#### Type the code down below for these two example\n",
    "- You have to be the age of 16 or older to drive\n",
    "- Each rollercoaster cart holds 4 for people per cart\n"
   ]
  },
  {
   "cell_type": "code",
   "execution_count": null,
   "metadata": {},
   "outputs": [],
   "source": [
    "\n",
    "# Put the code for ex:1\n",
    "\n",
    "\n",
    "\n",
    "# Put the code for ex:2\n",
    "\n",
    "\n"
   ]
  },
  {
   "cell_type": "markdown",
   "metadata": {},
   "source": [
    "# Logical Operators\n",
    "## NOT\n",
    "- NOT, it displays the opposite of whatever the data is. Mainly used for true/false, and does not effect the variable.\n"
   ]
  },
  {
   "cell_type": "code",
   "execution_count": 2,
   "metadata": {},
   "outputs": [
    {
     "name": "stdout",
     "output_type": "stream",
     "text": [
      "True\n"
     ]
    }
   ],
   "source": [
    "isRaining = False\n",
    "result = not(isRaining)\n",
    "print(result)"
   ]
  },
  {
   "cell_type": "markdown",
   "metadata": {},
   "source": [
    "## AND\n",
    "- AND, used to evaulte two conditions together and determine if both condintions are met"
   ]
  },
  {
   "cell_type": "code",
   "execution_count": 1,
   "metadata": {},
   "outputs": [
    {
     "name": "stdout",
     "output_type": "stream",
     "text": [
      "You passed the quiz\n"
     ]
    }
   ],
   "source": [
    "grade = 95\n",
    "if grade > 70 and grade <= 100:\n",
    "    print(\"You passed the quiz\")"
   ]
  },
  {
   "cell_type": "markdown",
   "metadata": {},
   "source": [
    "## OR\n",
    "- OR, when using or the function only looks to see if one of the conditions is met then will"
   ]
  },
  {
   "cell_type": "code",
   "execution_count": 3,
   "metadata": {},
   "outputs": [
    {
     "name": "stdout",
     "output_type": "stream",
     "text": [
      "end game\n"
     ]
    }
   ],
   "source": [
    "lives = 1\n",
    "score = 21\n",
    "if lives <= 0 or score > 20:\n",
    "    print(\"end game\")"
   ]
  },
  {
   "cell_type": "code",
   "execution_count": 10,
   "metadata": {},
   "outputs": [
    {
     "name": "stdout",
     "output_type": "stream",
     "text": [
      "NOT 0: \n",
      "True\n",
      "NOT 1: \n",
      "False\n"
     ]
    }
   ],
   "source": [
    "# false = 0\n",
    "# true = 1\n",
    "\n",
    "value = 0\n",
    "output = not(value)\n",
    "\n",
    "print(\"NOT 0: \")\n",
    "print(output)\n",
    "\n",
    "value2 = 1\n",
    "output2 = not(value2)\n",
    "\n",
    "print(\"NOT 1: \")\n",
    "print(output2)"
   ]
  },
  {
   "cell_type": "markdown",
   "metadata": {},
   "source": [
    "# Hacks\n",
    "- Explain in your own words what each logical operator does\n",
    "- Code your own scenario that makes sense for each logical operator"
   ]
  },
  {
   "cell_type": "markdown",
   "metadata": {},
   "source": [
    "# Conditionals\n",
    "##### Paaras Purohit and Shruthi Damodar\n",
    "\n",
    "- title: Conditionals\n",
    "- toc: true\n",
    "- categories: [tri2lesson]\n",
    "- permalink: /conditionals\n",
    "- tags: [tri2lesson]"
   ]
  },
  {
   "cell_type": "markdown",
   "metadata": {},
   "source": [
    "### Learning Objectives / Some Things You Might Want to Keep Note Of\n",
    "\n",
    "- Conditionals allow for the expression of algorithms that utilize selection without a programming language.\n",
    "- Writing conditional statements is key to computer science.\n",
    "- Determine the result of conditional statements"
   ]
  },
  {
   "cell_type": "markdown",
   "metadata": {},
   "source": [
    "### Key Terms\n",
    "- Selection: The specific block of code that will execute depending on the algorithm condition returning true or false.\n",
    "- Algorithm: \"A finite set of instructions that accomplish a specific task.\"\n",
    "- Conditional Statement / If-Statement: A statement that affects the sequence of control by executing certain statements depending on the value of a boolean."
   ]
  },
  {
   "cell_type": "markdown",
   "metadata": {},
   "source": [
    "### Conditional Statements in JavaScript"
   ]
  },
  {
   "cell_type": "markdown",
   "metadata": {},
   "source": [
    "Below is an example of an algorithm in JavaScript that uses selection:"
   ]
  },
  {
   "cell_type": "code",
   "execution_count": 4,
   "metadata": {
    "vscode": {
     "languageId": "javascript"
    }
   },
   "outputs": [
    {
     "ename": "SyntaxError",
     "evalue": "invalid syntax (3301604802.py, line 1)",
     "output_type": "error",
     "traceback": [
      "\u001b[0;36m  Input \u001b[0;32mIn [4]\u001b[0;36m\u001b[0m\n\u001b[0;31m    function isEven(parameter) {\u001b[0m\n\u001b[0m             ^\u001b[0m\n\u001b[0;31mSyntaxError\u001b[0m\u001b[0;31m:\u001b[0m invalid syntax\n"
     ]
    }
   ],
   "source": [
    "function isEven(parameter) {\n",
    "    if (parameter % 2 == 0) {\n",
    "        console.log(\"The number is even.\");\n",
    "    }\n",
    "    else if (parameter % 2 != 0) {\n",
    "        console.log(\"The number is odd.\")\n",
    "    }\n",
    "}\n",
    "\n",
    "isEven(4)"
   ]
  },
  {
   "cell_type": "markdown",
   "metadata": {},
   "source": [
    "A computer science student such as yourself will see conditional statements in JavaScript a lot. Below is an example of one in action:"
   ]
  },
  {
   "cell_type": "code",
   "execution_count": 5,
   "metadata": {
    "vscode": {
     "languageId": "javascript"
    }
   },
   "outputs": [
    {
     "ename": "SyntaxError",
     "evalue": "invalid syntax (1851254522.py, line 1)",
     "output_type": "error",
     "traceback": [
      "\u001b[0;36m  Input \u001b[0;32mIn [5]\u001b[0;36m\u001b[0m\n\u001b[0;31m    if (30 == 7) {\u001b[0m\n\u001b[0m                 ^\u001b[0m\n\u001b[0;31mSyntaxError\u001b[0m\u001b[0;31m:\u001b[0m invalid syntax\n"
     ]
    }
   ],
   "source": [
    "if (30 == 7) {\n",
    "    console.log(\"The condition is true\")\n",
    "}"
   ]
  },
  {
   "cell_type": "markdown",
   "metadata": {},
   "source": [
    "That is one conditional statement, but this algorithm is too simple to have anything done with it. Below is an algorithm building on the previous algorithm:"
   ]
  },
  {
   "cell_type": "code",
   "execution_count": null,
   "metadata": {
    "vscode": {
     "languageId": "javascript"
    }
   },
   "outputs": [],
   "source": [
    "if (30 == 7) {\n",
    "    console.log(\"The condition is true\")\n",
    "}\n",
    "else if (30 != 7) {\n",
    "    console.log(\"The condition is false\")\n",
    "}"
   ]
  },
  {
   "cell_type": "markdown",
   "metadata": {},
   "source": [
    "Conditional statements can be used for many a purpose. The algorithm above was quite simple, but conditionals can be found in more complex algorithms."
   ]
  },
  {
   "cell_type": "markdown",
   "metadata": {},
   "source": [
    "### Binary Numbers\n",
    "\n",
    "Let's do some truth tables!\n",
    "\n",
    "Speed round"
   ]
  },
  {
   "cell_type": "markdown",
   "metadata": {},
   "source": [
    "# Challenges\n",
    "#### Challenges Related to the Lesson That I Solved Myself\n",
    "\n",
    "Note: I did these in Python"
   ]
  },
  {
   "cell_type": "markdown",
   "metadata": {},
   "source": [
    "### Level I: Vowel Count\n",
    "\n",
    "Return the number (count) of vowels in the given string. We will consider a, e, i, o, u as vowels for this challenge (but not y). The input string will only consist of lower case letters and/or spaces.\n",
    "\n",
    "*Hint: If you use a lot of if-statements and there are more than one outcome, that is to be expected. If not, don't panic, just keep trying.*"
   ]
  },
  {
   "cell_type": "markdown",
   "metadata": {},
   "source": [
    "### Level II: Who Likes It?\n",
    "\n",
    "You probably know the \"like\" system from Facebook and other pages. People can \"like\" blog posts, pictures or other items. We want to create the text that should be displayed next to such an item.\n",
    "\n",
    "Implement the function which takes an array containing the names of people that like an item. It must return the display text as shown in the examples:\n",
    "\n",
    "[]                                -->  \"no one likes this\"\n",
    "\n",
    "[\"Peter\"]                         -->  \"Peter likes this\"\n",
    "\n",
    "[\"Jacob\", \"Alex\"]                 -->  \"Jacob and Alex like this\"\n",
    "\n",
    "[\"Max\", \"John\", \"Mark\"]           -->  \"Max, John and Mark like this\"\n",
    "\n",
    "[\"Alex\", \"Jacob\", \"Mark\", \"Max\"]  -->  \"Alex, Jacob and 2 others like this\"\n",
    "\n",
    "Note: For 4 or more names, the number in \"and 2 others\" simply increases.\n",
    "\n",
    "*Hint: This requires you to combine knowledge on lists along with the conditionals you learned in this lesson.*"
   ]
  },
  {
   "cell_type": "markdown",
   "metadata": {},
   "source": [
    "### Level III: Mutliples of 3 or 5\n",
    "\n",
    "If we list all the natural numbers below 10 that are multiples of 3 or 5, we get 3, 5, 6 and 9. The sum of these multiples is 23.\n",
    "\n",
    "Finish the solution so that it returns the sum of all the multiples of 3 or 5 below the number passed in. Additionally, if the number is negative, return 0 (for languages that do have them).\n",
    "\n",
    "Note: If the number is a multiple of both 3 and 5, only count it once.\n",
    "\n",
    "*Hint: What do you know about for loops? Since your code incorporates a list of numbers from 1 to the max number, can you use for loops along with conditionals?*"
   ]
  },
  {
   "cell_type": "markdown",
   "metadata": {},
   "source": [
    "### Level IV: Likes vs. Dislikes\n",
    "\n",
    "YouTube had a like and a dislike button, which allowed users to express their opinions about particular content. It was set up in such a way that you cannot like and dislike a video at the same time. There are two other interesting rules to be noted about the interface: Pressing a button, which is already active, will undo your press. If you press the like button after pressing the dislike button, the like button overwrites the previous \"Dislike\" state. The same is true for the other way round.\n",
    "\n",
    "Create a function that takes in a list of button inputs and returns the final state.\n",
    "\n",
    "Examples:"
   ]
  },
  {
   "cell_type": "code",
   "execution_count": null,
   "metadata": {
    "vscode": {
     "languageId": "javascript"
    }
   },
   "outputs": [],
   "source": [
    "/*\n",
    "like_or_dislike([Dislike]) ➞ Dislike\n",
    "like_or_dislike([Like, Like]) ➞ Nothing\n",
    "like_or_dislike([Dislike, Like]) ➞ Like\n",
    "like_or_dislike([Like, Dislike, Dislike]) ➞ Nothing\n",
    "*/"
   ]
  },
  {
   "cell_type": "markdown",
   "metadata": {},
   "source": [
    "Notes\n",
    "- If no button is currently active, return Nothing.\n",
    "- If the list is empty, return Nothing.\n",
    "\n",
    "*Hint: This is like level III, but harder, so don't give up!*"
   ]
  },
  {
   "cell_type": "markdown",
   "metadata": {},
   "source": [
    "### Level V: Find the Odd Number\n",
    "\n",
    "Given an array of integers, find the one that appears an odd number of times.\n",
    "\n",
    "There will always be only one integer that appears an odd number of times.\n",
    "\n",
    "Examples:\n",
    "\n",
    "[7] should return 7, because it occurs 1 time (which is odd).\n",
    "\n",
    "[0] should return 0, because it occurs 1 time (which is odd).\n",
    "\n",
    "[1,1,2] should return 2, because it occurs 1 time (which is odd).\n",
    "\n",
    "[0,1,0,1,0] should return 0, because it occurs 3 times (which is odd).\n",
    "\n",
    "[1,2,2,3,3,3,4,3,3,3,2,2,1] should return 4, because it appears 1 time (which is odd).\n",
    "\n",
    "*Hint: This is by far the hardest challenge out of all of these, in my opinion, and it took me about 3 or 4 months to solve this one.*"
   ]
  },
  {
   "cell_type": "markdown",
   "metadata": {},
   "source": [
    "### Hacks\n",
    "\n",
    "- 1 point for defining all the key terms in your own words. 0.5 points if you use examples that show you truly understand it.\n",
    "- 1 point for writing a program that uses binary conditional logic. 0.5 points if it is original and shows complexity\n",
    "- 1 extra point for each challenge that you program or pair program. \n",
    "- 0.5 points for your review ticket looking nice, or you convincing me that it does.\n",
    "- 1 point for each and any extra work you do that helps show your understanding of conditionals."
   ]
  },
  {
   "cell_type": "code",
   "execution_count": 2,
   "metadata": {},
   "outputs": [
    {
     "name": "stdout",
     "output_type": "stream",
     "text": [
      "AND:\n",
      "1 AND 2 = 0\n",
      "OR:\n",
      "1 OR 2 = 3\n",
      "XOR:\n",
      "1 XOR 2 = 3\n"
     ]
    }
   ],
   "source": [
    "num1 = int(1)\n",
    "num2 = int(2)\n",
    "\n",
    "# AND\n",
    "print(\"AND:\")\n",
    "print(num1, \"AND\", num2, \"=\", num1 & num2)\n",
    "\n",
    "# OR\n",
    "print(\"OR:\")\n",
    "print(num1, \"OR\", num2, \"=\", num1 | num2)\n",
    "\n",
    "# XOR\n",
    "print(\"XOR:\")\n",
    "print(num1, \"XOR\", num2, \"=\", num1 ^ num2)"
   ]
  },
  {
   "cell_type": "markdown",
   "metadata": {},
   "source": [
    "# Lesson 3.7 James"
   ]
  },
  {
   "cell_type": "markdown",
   "metadata": {},
   "source": [
    "## Nested Conditionals\n",
    "- Nested conditional statements consist of conditional statements within conditional statements\n",
    "- they're nested one inside the other\n",
    "- An else if inside of another else if\n",
    "- Can be used for a varying amount of \"else if statements.\" The first if statement can represent if two coditions are true. The first else if can represent if only one or the other is true. The last else if represents if neither of the conditions are true.\n",
    "\n",
    "\n",
    "### Take aways\n",
    "- Learn how to determine the result of nested condtional statements\n",
    "- Nested conditional statements consist of conditional statements within conditional statements\n",
    "![Flowchart.png](../images/Flowchart.png)\n",
    "- One condition leads to check in a second condition\n",
    "\n",
    "### Writing Nested Conditional Statements\n",
    "- Can be planned and writen out first\n",
    "- Flow chart is a possibility. Ask a question. If the statement is false end the flowchart with one result. If it is true then repeat the process once more. \n",
    "- If (condition 1)   \n",
    "- {   \n",
    "    - first block of statements\n",
    "- }\n",
    "- else\n",
    "- {\n",
    "    - IF (condition 2)\n",
    "    - {\n",
    "        - second block of statements\n",
    "    - }\n",
    "- }   \n",
    "\n",
    "this statement is false make a new result. Finally if the statement is true make a final result\n"
   ]
  },
  {
   "cell_type": "markdown",
   "metadata": {},
   "source": [
    "## Question 1\n",
    "Look at the following code\n",
    "- what happens when x is 5 and y becomes 4? Is the output same or change?"
   ]
  },
  {
   "cell_type": "code",
   "execution_count": 6,
   "metadata": {},
   "outputs": [
    {
     "name": "stdout",
     "output_type": "stream",
     "text": [
      "x is smaller than y\n"
     ]
    }
   ],
   "source": [
    "x = 2\n",
    "y = 3\n",
    "if x == y:\n",
    "    print(\"x and y are equal\")\n",
    "else:\n",
    "    if x > y:\n",
    "        print(\"x is bigger than y\")\n",
    "    elif x < y:\n",
    "        print(\"x is smaller than y\")"
   ]
  },
  {
   "cell_type": "markdown",
   "metadata": {},
   "source": [
    "![example](../images/justoneexample.png)"
   ]
  },
  {
   "cell_type": "markdown",
   "metadata": {},
   "source": [
    "## Question 2\n",
    "- How much it will be cost when the height will be 60, age is 17, and photo taken?\n",
    "- when this person came after 1 year how much it will be cost?"
   ]
  },
  {
   "cell_type": "code",
   "execution_count": 9,
   "metadata": {},
   "outputs": [
    {
     "name": "stdout",
     "output_type": "stream",
     "text": [
      "The total bill is $7.\n"
     ]
    }
   ],
   "source": [
    "height = int(input(\"Welcom to the rollercoaster! \\nWhat is your height in Inch? \"))\n",
    "age = int(input(\"What is your age?\"))\n",
    "if height < 48 :\n",
    "   print(\"Can't ride\")\n",
    "elif age < 12 :\n",
    "  photo = input(\"Adult tickets are $5 \\nDo you want a photo taken? Y or N. \")\n",
    "  if photo==\"Y\":\n",
    "    print(\"The total bill is $8.\")\n",
    "  if photo==\"N\":\n",
    "    print(\"The total bill is $5.\")\n",
    "elif age < 18:\n",
    "   photo = input(\"Adult tickets are $7 \\nDo you want a photo taken? Y or N. \")\n",
    "   if photo==\"Y\":\n",
    "    print(\"The total bill is $10.\")\n",
    "   if photo==\"N\":\n",
    "    print(\"The total bill is $7.\")\n",
    "else :\n",
    "   photo = input(\"Adult tickets are $12 \\nDo you want a photo taken? Y or N. \")\n",
    "   if photo==\"Y\":\n",
    "    print(\"The total bill is $15.\")\n",
    "   if photo==\"N\":\n",
    "    print(\"The total bill is $12.\")"
   ]
  },
  {
   "cell_type": "markdown",
   "metadata": {},
   "source": [
    "## Let's look at Examples"
   ]
  },
  {
   "cell_type": "code",
   "execution_count": null,
   "metadata": {},
   "outputs": [],
   "source": [
    "import random\n",
    "global i\n",
    "game = [\"rock\", \"scissor\", \"paper\"]\n",
    "winning = [\"paper\", \"rock\", \"scissor\"]\n",
    "i = 0\n",
    "def gameStart():\n",
    "    randomNumber = random.randrange(0,2)\n",
    "    randomOne = game[randomNumber]\n",
    "    gamer = str(input(\"what will you do\"))\n",
    "    print(gamer)\n",
    "    print(randomOne)\n",
    "    while True:\n",
    "        if winning[i] == gamer:\n",
    "            break\n",
    "        else:\n",
    "            i += 1\n",
    "    if randomNumber == i:\n",
    "        print(\"You win\")\n",
    "    else:\n",
    "        if randomNumber == (i+1)%3:\n",
    "            print(\"Lose\")\n",
    "        elif randomNumber == (i+2)%3:\n",
    "            print(\"Draw\")\n",
    "    pre = input(\"Do you want a game?[yes/no]\")\n",
    "    if pre == \"yes\":\n",
    "        gameStart()\n",
    "        randomNumber = random.randrange(0,2)\n",
    "    else:\n",
    "        print(\"Goodbye\")\n",
    "gameStart()"
   ]
  },
  {
   "cell_type": "markdown",
   "metadata": {},
   "source": [
    "{% assign RED = 8 %}\n",
    "{% assign GREE = 8 %}\n",
    "{% assign BLUE = 8 %}\n",
    "\n",
    "<div class=\"container bg-primary\">\n",
    "    <header class=\"pb-3 mb-4 border-bottom border-primary text-dark\">\n",
    "        <span class=\"fs-4\">Binary Math with Conversions</span>\n",
    "    </header>\n",
    "    <div class=\"row justify-content-md-center\">\n",
    "        <div class=\"col-8\">\n",
    "            <table class=\"table\">\n",
    "            <tr id=\"table\">\n",
    "                <th>Plus</th>\n",
    "                <th>Binary</th>\n",
    "                <th>Octal</th>\n",
    "                <th>Hexadecimal</th>\n",
    "                <th>Decimal</th>\n",
    "                <th>Minus</th>\n",
    "            </tr>\n",
    "            <tr>\n",
    "                <td><button type=\"button\" id=\"Radd1\" onclick=\"addR(1)\">+1</button></td>\n",
    "                <td id=\"binaryR\">00000000</td>\n",
    "                <td id=\"octalR\">0</td>\n",
    "                <td id=\"hexadecimalR\">0</td>\n",
    "                <td id=\"decimalR\">0</td>\n",
    "                <td><button type=\"button\" id=\"Rsub1\" onclick=\"addR(-1)\">-1</button></td>\n",
    "            </tr>\n",
    "            <tr>\n",
    "                <td><button type=\"button\" id=\"Gadd1\" onclick=\"addG(1)\">+1</button></td>\n",
    "                <td id=\"binaryG\">00000000</td>\n",
    "                <td id=\"octalG\">0</td>\n",
    "                <td id=\"hexadecimalG\">0</td>\n",
    "                <td id=\"decimalG\">0</td>\n",
    "                <td><button type=\"button\" id=\"Gsub1\" onclick=\"addG(-1)\">-1</button></td>\n",
    "            </tr>\n",
    "            <tr>\n",
    "                <td><button type=\"button\" id=\"Badd1\" onclick=\"addB(1)\">+1</button></td>\n",
    "                <td id=\"binaryB\">00000000</td>\n",
    "                <td id=\"octalB\">0</td>\n",
    "                <td id=\"hexadecimalB\">0</td>\n",
    "                <td id=\"decimalB\">0</td>\n",
    "                <td><button type=\"button\" id=\"Bsub1\" onclick=\"addB(-1)\">-1</button></td>\n",
    "            </tr>\n",
    "            </table>\n",
    "        </div>\n",
    "        <div class=\"col-12\">\n",
    "            {% comment %}Liquid for loop includes last number, thus the Minus{% endcomment %}\n",
    "            {% assign bitsR = RED | minus: 1 %} \n",
    "            {% assign bitsB = GREE | minus: 1 %} \n",
    "            {% assign bitsG = BLUE | minus: 1 %} \n",
    "            <table class=\"table\">\n",
    "            <tr>\n",
    "                {% comment %}Value of bit{% endcomment %}\n",
    "                {% for i in (0..bitsR) %}\n",
    "                <td><input type='text' id=\"digitR{{ i }}\" Value=\"0\" size=\"1\" readonly></td>\n",
    "                {% endfor %}\n",
    "            </tr>\n",
    "            <tr>\n",
    "                {% comment %}Value of bit{% endcomment %}\n",
    "                {% for i in (0..bitsG) %}\n",
    "                <td><input type='text' id=\"digitG{{ i }}\" Value=\"0\" size=\"1\" readonly></td>\n",
    "                {% endfor %}\n",
    "            </tr>\n",
    "            <tr>\n",
    "                {% comment %}Value of bit{% endcomment %}\n",
    "                {% for i in (0..bitsB) %}\n",
    "                <td><input type='text' id=\"digitB{{ i }}\" Value=\"0\" size=\"1\" readonly></td>\n",
    "                {% endfor %}\n",
    "            </tr>\n",
    "            </table>\n",
    "        </div>\n",
    "        <div class=\"container\" id=\"container\">\n",
    "        <style>\n",
    "            .container {\n",
    "                width: auto;\n",
    "                max-width: 900px;\n",
    "                padding: 20px 30px;\n",
    "                border-radius: 10px;\n",
    "            }\n",
    "        </style>\n",
    "    </div>\n",
    "</div>\n",
    "\n",
    "<script>\n",
    "    var color = '';\n",
    "    var colorR = 0;\n",
    "    var colorG = 0;\n",
    "    var colorB = 0;\n",
    "    const RED = {{ RED }};\n",
    "    const GREE = {{ GREE }};\n",
    "    const BLUE = {{ BLUE }};\n",
    "    const MAX = 2 ** RED - 1;\n",
    "    getColor();\n",
    "\n",
    "\n",
    "    function getBitsR() {\n",
    "        let bitsR = \"\";\n",
    "        for(let i = 0; i < RED; i++) {\n",
    "        bitsR = bitsR + document.getElementById('digitR' + i).value;\n",
    "        }\n",
    "        return bitsR;\n",
    "    }\n",
    "    function getBitsG() {\n",
    "        let bitsG = \"\";\n",
    "        for(let i = 0; i < GREE; i++) {\n",
    "        bitsG = bitsG + document.getElementById('digitG' + i).value;\n",
    "        }\n",
    "        return bitsG;\n",
    "    }\n",
    "    function getBitsB() {\n",
    "        let bitsB = \"\";\n",
    "        for(let i = 0; i < BLUE; i++) {\n",
    "        bitsB = bitsB + document.getElementById('digitB' + i).value;\n",
    "        }\n",
    "        return bitsB;\n",
    "    }\n",
    "    function decimal_R_base(decR, base) {\n",
    "        let conversionR = \"\";\n",
    "        // loop to convert to base\n",
    "        do {\n",
    "        let digitR = decR % base;\n",
    "        conversionR = \"\" + digitR + conversionR; // what does this do?\n",
    "        decR = ~~(decR / base);         // what does this do?\n",
    "        } while (decR > 0);                  // why while at the end? what is ~~?\n",
    "        // loop to pad with zeros\n",
    "        if (base === 2) {                        // only pad for binary conversions\n",
    "        for (let i = 0; conversionR.length < RED; i++) {\n",
    "            conversionR = \"0\" + conversionR;\n",
    "        }\n",
    "        }\n",
    "        return conversionR;\n",
    "    }\n",
    "    function decimal_G_base(decG, base) {\n",
    "        let conversionG = \"\";\n",
    "        // loop to convert to base\n",
    "        do {\n",
    "        let digitG = decG % base;\n",
    "        conversionG = \"\" + digitG + conversionG; // what does this do?\n",
    "        decG = ~~(decG / base);         // what does this do?\n",
    "        } while (decG > 0);                  // why while at the end? what is ~~?\n",
    "        // loop to pad with zeros\n",
    "        if (base === 2) {                        // only pad for binary conversions\n",
    "        for (let i = 0; conversionG.length < GREE; i++) {\n",
    "            conversionG = \"0\" + conversionG;\n",
    "        }\n",
    "        }\n",
    "        return conversionG;\n",
    "    }\n",
    "    function decimal_B_base(decB, base) {\n",
    "        let conversionB = \"\";\n",
    "        // loop to convert to base\n",
    "        do {\n",
    "        let digitB = decB % base;\n",
    "        conversionB = \"\" + digitB + conversionB; // what does this do?\n",
    "        decB = ~~(decB / base);         // what does this do?\n",
    "        } while (decB > 0);                  // why while at the end? what is ~~?\n",
    "        // loop to pad with zeros\n",
    "        if (base === 2) {                        // only pad for binary conversions\n",
    "        for (let i = 0; conversionB.length < BLUE; i++) {\n",
    "            conversionB = \"0\" + conversionB;\n",
    "        }\n",
    "        }\n",
    "        return conversionB;\n",
    "    }\n",
    "    // setter for DOM values\n",
    "    function setConversionsR(binaryR) {\n",
    "        document.getElementById('binaryR').innerHTML = binaryR;\n",
    "        // Octal conversion\n",
    "        document.getElementById('octalR').innerHTML = parseInt(binaryR, 2).toString(8);\n",
    "        // Hexadecimal conversion\n",
    "        document.getElementById('hexadecimalR').innerHTML = parseInt(binaryR, 2).toString(16);\n",
    "        // Decimal conversion\n",
    "        document.getElementById('decimalR').innerHTML = parseInt(binaryR, 2).toString();\n",
    "    }\n",
    "    //\n",
    "    function setConversionsG(binaryG) {\n",
    "        document.getElementById('binaryG').innerHTML = binaryG;\n",
    "        // Octal conversion\n",
    "        document.getElementById('octalG').innerHTML = parseInt(binaryG, 2).toString(8);\n",
    "        // Hexadecimal conversion\n",
    "        document.getElementById('hexadecimalG').innerHTML = parseInt(binaryG, 2).toString(16);\n",
    "        // Decimal conversion\n",
    "        document.getElementById('decimalG').innerHTML = parseInt(binaryG, 2).toString();\n",
    "    }\n",
    "    function setConversionsB(binaryB) {\n",
    "        document.getElementById('binaryB').innerHTML = binaryB;\n",
    "        // Octal conversion\n",
    "        document.getElementById('octalB').innerHTML = parseInt(binaryB, 2).toString(8);\n",
    "        // Hexadecimal conversion\n",
    "        document.getElementById('hexadecimalB').innerHTML = parseInt(binaryB, 2).toString(16);\n",
    "        // Decimal conversion\n",
    "        document.getElementById('decimalB').innerHTML = parseInt(binaryB, 2).toString();\n",
    "    }\n",
    "\n",
    "    // toggle selected bit and recalculate\n",
    "   \n",
    "    // add is positive integer, subtract is negative integer\n",
    "    function addR(n) {\n",
    "        let binaryR = getBitsR();\n",
    "        // convert to decimal and do math\n",
    "        let decR = parseInt(binaryR, 2);\n",
    "        if (n > 0) {  // PLUS\n",
    "        decR = MAX === decR ? 0 : decR += n; // OVERFLOW or PLUS\n",
    "        } else  {     // MINUS\n",
    "        decR = 0 === decR ? MAX : decR += n; // OVERFLOW or MINUS\n",
    "        }\n",
    "        // convert the result back to binary\n",
    "        binaryR = decimal_R_base(decR, 2);\n",
    "        // update conversions\n",
    "        setConversionsR(binaryR);\n",
    "        // update bits\n",
    "        for (let i = 0; i < binaryR.length; i++) {\n",
    "        let digitR = binaryR.substr(i, 1);\n",
    "        document.getElementById('digitR' + i).value = digitR;\n",
    "        colorR = decR.toString(10);\n",
    "        getColor();\n",
    "        console.log(color);\n",
    "        document.getElementById(\"container\").style.background = color;\n",
    "        }\n",
    "    }\n",
    "    function addG(n) {\n",
    "        let binaryG = getBitsG();\n",
    "        // convert to decimal and do math\n",
    "        let decG = parseInt(binaryG, 2);\n",
    "        if (n > 0) {  // PLUS\n",
    "        decG = MAX === decG ? 0 : decG += n; // OVERFLOW or PLUS\n",
    "        } else  {     // MINUS\n",
    "        decG = 0 === decG ? MAX : decG += n; // OVERFLOW or MINUS\n",
    "        }\n",
    "        // convert the result back to binary\n",
    "        binaryG = decimal_G_base(decG, 2);\n",
    "        // update conversions\n",
    "        setConversionsG(binaryG);\n",
    "        // update bits\n",
    "        for (let i = 0; i < binaryG.length; i++) {\n",
    "        let digitG = binaryG.substr(i, 1);\n",
    "        document.getElementById('digitG' + i).value = digitG;\n",
    "        colorG = decG.toString(10);\n",
    "        getColor();\n",
    "        console.log(color);\n",
    "        document.getElementById(\"container\").style.background = color;\n",
    "        }\n",
    "    }\n",
    "    function addB(n) {\n",
    "        let binaryB = getBitsB();\n",
    "        // convert to decimal and do math\n",
    "        let decB = parseInt(binaryB, 2);\n",
    "        if (n > 0) {  // PLUS\n",
    "        decB = MAX === decB ? 0 : decB += n; // OVERFLOW or PLUS\n",
    "        } else  {     // MINUS\n",
    "        decB = 0 === decB ? MAX : decB += n; // OVERFLOW or MINUS\n",
    "        }\n",
    "        // convert the result back to binary\n",
    "        binaryB = decimal_B_base(decB, 2);\n",
    "        // update conversions\n",
    "        setConversionsB(binaryB);\n",
    "        // update bits\n",
    "        for (let i = 0; i < binaryB.length; i++) {\n",
    "        let digitB = binaryB.substr(i, 1);\n",
    "        document.getElementById('digitB' + i).value = digitB;\n",
    "        colorB = decB.toString(10);\n",
    "        getColor();\n",
    "        console.log(color);\n",
    "        document.getElementById(\"container\").style.background = color;\n",
    "        }\n",
    "    }\n",
    "\n",
    "    function getColor()\n",
    "    {\n",
    "        color = '#';\n",
    "        if (parseInt(colorR, 10) > 15) {\n",
    "            color += parseInt(colorR, 10).toString(16);\n",
    "        } else {\n",
    "            color += '0';\n",
    "            color += parseInt(colorR, 10).toString(16);\n",
    "        }\n",
    "\n",
    "        if (parseInt(colorG, 10) > 15) {\n",
    "            color += parseInt(colorG, 10).toString(16);\n",
    "        } else {\n",
    "            color += '0';\n",
    "            color += parseInt(colorG, 10).toString(16);\n",
    "        }\n",
    "\n",
    "        if (parseInt(colorB, 10) > 15) {\n",
    "            color += parseInt(colorB, 10).toString(16);\n",
    "        } else {\n",
    "            color += '0';\n",
    "            color += parseInt(colorB, 10).toString(16);\n",
    "        }\n",
    "    }\n",
    "    \n",
    "</script>"
   ]
  },
  {
   "cell_type": "markdown",
   "metadata": {},
   "source": [
    "## Hacks\n",
    "- Create 3 differnt flow charts representing nested statements and transfer them into code.\n",
    "- Create a piece of code that displays four statements instead of three. Try to do more if you can.\n",
    "- Make piece of code that gives three different recommandations for possible classes to take at a scholl based on two different condtions. These conditions could be if the student likes STEM or not."
   ]
  },
  {
   "cell_type": "code",
   "execution_count": 12,
   "metadata": {},
   "outputs": [
    {
     "name": "stdout",
     "output_type": "stream",
     "text": [
      "type in answers as 'y' or as 'n'\n",
      "Math:  y\n",
      "Writing:  y\n",
      "Science:  n\n",
      "You should take:  ['Integrated 1-3', 'Calculus AB', 'Calculus BC', 'Statistics']\n",
      "You should take:  ['Honors English', 'Honors Humanities', 'English Language', 'English Literature']\n"
     ]
    }
   ],
   "source": [
    "print(\"type in answers as 'y' or as 'n'\")\n",
    "\n",
    "math = input(\"Do you like math?\")\n",
    "writing = input(\"Do you like writing?\")\n",
    "science = input(\"Do you like science?\")\n",
    "\n",
    "mathc = [\"Integrated 1-3\", \"Calculus AB\", \"Calculus BC\", \"Statistics\"]\n",
    "writingc = [\"Honors English\", \"Honors Humanities\", \"English Language\", \"English Literature\"]\n",
    "sciencec = [\"Chemistry 1-2\", \"Biology 1-2\", \"Physics 1-2\", \"AP Chemistry\", \"AP Biology\", \"AP Physics\"]\n",
    "\n",
    "print(\"Math: \", math)\n",
    "print(\"Writing: \", writing)\n",
    "print(\"Science: \", science)\n",
    "\n",
    "if math == \"y\":\n",
    "  print(\"You should take: \", mathc)\n",
    "  if writing == \"y\":\n",
    "    print(\"You should take: \", writingc)\n",
    "  if science == \"y\":\n",
    "    print(\"You should take: \", sciencec)\n",
    "elif writing == \"y\":\n",
    "  print(\"You should take: \", writingc)\n",
    "  if science == \"y\":\n",
    "    print(\"You should take: \", sciencec)\n",
    "elif science == \"y\":\n",
    "  print(\"You should take: \", sciencec)\n",
    "else:\n",
    "  print(\"dropout\")\n"
   ]
  },
  {
   "cell_type": "markdown",
   "metadata": {},
   "source": [
    "## Kahoot quiz\n",
    "[kahoot](https://kahoot.it/challenge/07393668?challenge-id=6fa39421-006e-4f58-a7e0-893bead007f9_1669920950796)\n",
    "\n",
    "- After finishing this quiz, please take a screenshot of how much you got correct"
   ]
  },
  {
   "cell_type": "markdown",
   "metadata": {},
   "source": [
    "# Rubric for hacks:\n",
    "- Each section is worth .33 and you will get + 0.01 if all are completed to have full points.\n",
    "\n",
    "### How to get a .33\n",
    "- All hacks are done for the section, fully completed.\n",
    "\n",
    "### How to get a .30\n",
    "- Not all hacks are done in the section\n",
    "\n",
    "### Below a .30\n",
    "- Sections are missing/incomplete"
   ]
  }
 ],
 "metadata": {
  "kernelspec": {
   "display_name": "Python 3.8.10 64-bit",
   "language": "python",
   "name": "python3"
  },
  "language_info": {
   "codemirror_mode": {
    "name": "ipython",
    "version": 3
   },
   "file_extension": ".py",
   "mimetype": "text/x-python",
   "name": "python",
   "nbconvert_exporter": "python",
   "pygments_lexer": "ipython3",
   "version": "3.8.10"
  },
  "orig_nbformat": 4,
  "vscode": {
   "interpreter": {
    "hash": "31f2aee4e71d21fbe5cf8b01ff0e069b9275f58929596ceb00d14d90e3e16cd6"
   }
  }
 },
 "nbformat": 4,
 "nbformat_minor": 2
}
