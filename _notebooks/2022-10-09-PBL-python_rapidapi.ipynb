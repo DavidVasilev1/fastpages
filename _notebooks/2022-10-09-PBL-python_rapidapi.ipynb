{
 "cells": [
  {
   "cell_type": "markdown",
   "metadata": {},
   "source": [
    "# RapidAPI\n",
    "> An example of a RapidAPI output.\n",
    "\n",
    "- title: RapidAPI\n",
    "- toc: true\n",
    "- categories: [Jupyter, Trimester 1, Tri 1 Assignments]\n",
    "- comments: true"
   ]
  },
  {
   "cell_type": "markdown",
   "metadata": {},
   "source": [
    "## Weather API"
   ]
  },
  {
   "cell_type": "code",
   "execution_count": 2,
   "metadata": {},
   "outputs": [
    {
     "name": "stdout",
     "output_type": "stream",
     "text": [
      "Address,Date time,Latitude,Longitude,Resolved Address,Name,Wind Direction,Minimum Temperature,Maximum Temperature,Temperature,Wind Speed,Cloud Cover,Heat Index,Chance Precipitation (%),Precipitation,Sea Level Pressure,Snow Depth,Snow,Relative Humidity,Wind Gust,Wind Chill,Conditions\n",
      "\"san diego\",\"10/10/2022\",32.7157,-117.162,\"San Diego, CA, United States\",\"san diego\",282.9,66.1,66.6,66.4,2.6,98.8,,0.0,0.0,1014.8,0.0,0.0,88.9,3.8,,\"Overcast\"\n",
      "\"san diego\",\"10/11/2022\",32.7157,-117.162,\"San Diego, CA, United States\",\"san diego\",307.6,63.8,73.1,66.7,3.8,91.2,,28.6,0.0,1015.7,0.0,0.0,86.5,9.4,,\"Overcast\"\n",
      "\"san diego\",\"10/12/2022\",32.7157,-117.162,\"San Diego, CA, United States\",\"san diego\",318.5,66.1,75.1,69.4,4.9,41.9,,23.8,0.0,1016.5,0.0,0.0,81.7,11.9,,\"Partially cloudy\"\n",
      "\"san diego\",\"10/13/2022\",32.7157,-117.162,\"San Diego, CA, United States\",\"san diego\",303.4,67.0,71.0,68.6,7.3,3.9,,4.8,0.0,1014.4,,,80.8,10.7,,\"Clear\"\n",
      "\"san diego\",\"10/14/2022\",32.7157,-117.162,\"San Diego, CA, United States\",\"san diego\",241.1,64.7,68.6,67.0,5.5,23.3,,28.6,0.03,1010.4,,,79.5,7.2,,\"Clear\"\n",
      "\"san diego\",\"10/15/2022\",32.7157,-117.162,\"San Diego, CA, United States\",\"san diego\",224.0,64.3,67.0,65.5,5.5,60.5,,38.1,0.13,1012.2,,0.0,72.4,6.7,,\"Partially cloudy\"\n",
      "\"san diego\",\"10/16/2022\",32.7157,-117.162,\"San Diego, CA, United States\",\"san diego\",303.4,65.4,69.3,67.1,6.9,55.8,,23.8,0.0,1014.0,,0.0,75.3,10.7,,\"Partially cloudy\"\n",
      "\"san diego\",\"10/17/2022\",32.7157,-117.162,\"San Diego, CA, United States\",\"san diego\",302.2,66.3,69.2,67.3,6.8,12.7,,23.8,0.0,1014.2,,0.0,78.8,7.2,,\"Clear\"\n",
      "\"san diego\",\"10/18/2022\",32.7157,-117.162,\"San Diego, CA, United States\",\"san diego\",316.2,66.4,71.7,68.9,6.5,54.9,,23.8,0.0,1013.0,,0.0,76.0,10.3,,\"Partially cloudy\"\n",
      "\"san diego\",\"10/19/2022\",32.7157,-117.162,\"San Diego, CA, United States\",\"san diego\",321.8,68.8,73.5,70.7,8.0,100.0,,23.8,0.0,1012.5,,0.0,72.6,11.2,,\"Overcast\"\n",
      "\"san diego\",\"10/20/2022\",32.7157,-117.162,\"San Diego, CA, United States\",\"san diego\",292.3,67.7,71.5,69.8,6.6,56.2,,4.8,0.0,1013.2,,0.0,71.4,8.5,,\"Partially cloudy\"\n",
      "\"san diego\",\"10/21/2022\",32.7157,-117.162,\"San Diego, CA, United States\",\"san diego\",288.9,65.7,67.9,67.0,8.7,50.2,,4.8,0.03,1012.0,,0.0,74.3,11.0,,\"Partially cloudy\"\n",
      "\"san diego\",\"10/22/2022\",32.7157,-117.162,\"San Diego, CA, United States\",\"san diego\",266.5,63.9,65.9,65.2,11.8,47.7,,19.0,0.17,1013.7,,0.0,76.5,21.3,,\"Partially cloudy\"\n",
      "\"san diego\",\"10/23/2022\",32.7157,-117.162,\"San Diego, CA, United States\",\"san diego\",216.5,63.1,66.6,65.1,6.0,5.3,,19.0,0.0,1015.5,,0.0,64.5,12.6,,\"Clear\"\n",
      "\"san diego\",\"10/24/2022\",32.7157,-117.162,\"San Diego, CA, United States\",\"san diego\",327.9,64.8,71.5,67.9,6.6,0.3,,19.0,0.0,1014.8,,0.0,66.2,10.3,,\"Clear\"\n",
      "\"san diego\",\"10/25/2022\",32.7157,-117.162,\"San Diego, CA, United States\",\"san diego\",244.9,67.4,72.2,69.6,5.4,0.7,,9.5,0.0,1014.4,,0.0,65.3,7.8,,\"Clear\"\n",
      "\n",
      "Address,Date time,Latitude,Longitude,Resolved Address,Name,Wind Direction,Minimum Temperature,Maximum Temperature,Temperature,Wind Speed,Cloud Cover,Heat Index,Chance Precipitation (%),Precipitation,Sea Level Pressure,Snow Depth,Snow,Relative Humidity,Wind Gust,Wind Chill,Conditions\n",
      "\"miami\",\"10/10/2022\",25.7748,-80.1977,\"Miami, FL, United States\",\"miami\",59.1,76.7,76.7,76.7,7.6,81.0,89.4,19.0,0.0,1019.0,0.0,0.0,90.8,12.1,,\"Overcast\"\n",
      "\"miami\",\"10/11/2022\",25.7748,-80.1977,\"Miami, FL, United States\",\"miami\",84.8,76.9,83.7,80.0,7.8,93.9,92.4,66.7,0.0,1018.3,0.0,0.0,85.7,15.0,,\"Rain, Overcast\"\n",
      "\"miami\",\"10/12/2022\",25.7748,-80.1977,\"Miami, FL, United States\",\"miami\",88.2,78.2,80.3,79.3,7.2,82.2,85.4,85.7,0.02,1016.8,0.0,0.0,88.2,13.9,,\"Rain, Overcast\"\n",
      "\"miami\",\"10/13/2022\",25.7748,-80.1977,\"Miami, FL, United States\",\"miami\",97.8,79.2,79.4,79.4,7.7,99.0,90.1,95.2,0.01,1015.3,0.0,0.0,91.7,9.6,,\"Rain, Overcast\"\n",
      "\"miami\",\"10/14/2022\",25.7748,-80.1977,\"Miami, FL, United States\",\"miami\",120.0,79.2,85.4,81.9,6.5,29.3,88.7,76.2,0.05,1012.3,0.0,0.0,65.9,11.0,,\"Rain, Partially cloudy\"\n",
      "\"miami\",\"10/15/2022\",25.7748,-80.1977,\"Miami, FL, United States\",\"miami\",64.7,80.1,85.0,82.3,11.4,10.9,89.0,81.0,0.0,1014.9,0.0,0.0,66.7,15.7,,\"Rain\"\n",
      "\"miami\",\"10/16/2022\",25.7748,-80.1977,\"Miami, FL, United States\",\"miami\",83.2,80.0,83.9,81.5,11.9,18.3,88.5,71.4,0.08,1015.2,0.0,0.0,70.5,15.2,,\"Rain\"\n",
      "\"miami\",\"10/17/2022\",25.7748,-80.1977,\"Miami, FL, United States\",\"miami\",116.7,79.2,83.7,81.2,7.6,46.7,88.2,66.7,0.12,1013.0,0.0,0.0,70.5,13.0,,\"Rain, Partially cloudy\"\n",
      "\"miami\",\"10/18/2022\",25.7748,-80.1977,\"Miami, FL, United States\",\"miami\",184.7,78.2,85.6,81.6,6.3,40.7,89.1,66.7,0.14,1011.6,0.0,0.0,67.3,10.1,,\"Rain, Partially cloudy\"\n",
      "\"miami\",\"10/19/2022\",25.7748,-80.1977,\"Miami, FL, United States\",\"miami\",152.7,78.2,83.7,80.8,5.6,52.0,87.2,61.9,0.2,1012.8,0.0,0.0,69.2,7.7,,\"Rain, Partially cloudy\"\n",
      "\"miami\",\"10/20/2022\",25.7748,-80.1977,\"Miami, FL, United States\",\"miami\",227.0,77.1,86.3,80.7,9.2,83.2,88.9,47.6,0.07,1011.7,0.0,0.0,67.6,15.2,,\"Overcast\"\n",
      "\"miami\",\"10/21/2022\",25.7748,-80.1977,\"Miami, FL, United States\",\"miami\",263.2,75.8,83.6,79.4,8.7,93.0,84.2,57.1,0.03,1013.6,0.0,0.0,63.1,15.2,,\"Rain, Overcast\"\n",
      "\"miami\",\"10/22/2022\",25.7748,-80.1977,\"Miami, FL, United States\",\"miami\",122.1,76.9,80.1,79.0,8.9,55.1,82.4,61.9,0.39,1017.0,0.0,0.0,67.4,11.4,,\"Rain, Partially cloudy\"\n",
      "\"miami\",\"10/23/2022\",25.7748,-80.1977,\"Miami, FL, United States\",\"miami\",95.9,79.1,82.1,80.4,11.4,20.9,85.7,28.6,0.09,1017.4,0.0,0.0,67.9,14.5,,\"Clear\"\n",
      "\"miami\",\"10/24/2022\",25.7748,-80.1977,\"Miami, FL, United States\",\"miami\",118.4,79.8,84.3,81.4,9.2,6.9,88.6,61.9,0.13,1016.1,0.0,0.0,72.1,14.5,,\"Rain\"\n",
      "\"miami\",\"10/25/2022\",25.7748,-80.1977,\"Miami, FL, United States\",\"miami\",107.4,79.2,85.2,82.1,8.6,7.2,89.2,38.1,0.02,1015.6,0.0,0.0,69.1,14.8,,\"Clear\"\n",
      "\"miami\",\"10/26/2022\",25.7748,-80.1977,\"Miami, FL, United States\",\"miami\",64.4,78.0,81.2,79.9,12.1,98.6,85.0,28.6,0.31,1016.1,0.0,0.0,74.0,15.2,,\"Overcast\"\n",
      "\n",
      "Address,Date time,Latitude,Longitude,Resolved Address,Name,Wind Direction,Minimum Temperature,Maximum Temperature,Temperature,Wind Speed,Cloud Cover,Heat Index,Chance Precipitation (%),Precipitation,Sea Level Pressure,Snow Depth,Snow,Relative Humidity,Wind Gust,Wind Chill,Conditions\n",
      "\"new york\",\"10/10/2022\",40.7146,-74.0071,\"New York, NY, United States\",\"new york\",241.1,58.7,58.7,58.7,5.8,100.0,,0.0,0.0,1025.0,0.0,0.0,56.4,9.8,,\"Overcast\"\n",
      "\"new york\",\"10/11/2022\",40.7146,-74.0071,\"New York, NY, United States\",\"new york\",251.1,47.9,71.3,59.1,5.4,5.0,,0.0,0.0,1025.0,0.0,0.0,61.1,14.1,46.3,\"Clear\"\n",
      "\"new york\",\"10/12/2022\",40.7146,-74.0071,\"New York, NY, United States\",\"new york\",194.1,55.7,68.3,61.2,7.0,52.6,,0.0,0.0,1022.3,0.0,0.0,74.2,25.1,,\"Partially cloudy\"\n",
      "\"new york\",\"10/13/2022\",40.7146,-74.0071,\"New York, NY, United States\",\"new york\",172.7,59.4,60.3,59.9,9.0,97.9,,81.0,0.0,1017.0,0.0,0.0,85.8,23.3,,\"Rain, Overcast\"\n",
      "\"new york\",\"10/14/2022\",40.7146,-74.0071,\"New York, NY, United States\",\"new york\",255.1,59.1,70.1,64.6,7.5,29.4,,81.0,0.14,1011.1,0.0,0.0,54.5,32.2,,\"Rain, Partially cloudy\"\n",
      "\"new york\",\"10/15/2022\",40.7146,-74.0071,\"New York, NY, United States\",\"new york\",213.3,54.8,71.1,62.4,7.5,32.0,,9.5,0.0,1017.4,0.0,0.0,43.4,23.3,,\"Partially cloudy\"\n",
      "\"new york\",\"10/16/2022\",40.7146,-74.0071,\"New York, NY, United States\",\"new york\",256.2,59.4,69.2,64.2,8.3,41.4,,4.8,0.0,1015.5,0.0,0.0,50.3,28.0,,\"Partially cloudy\"\n",
      "\"new york\",\"10/17/2022\",40.7146,-74.0071,\"New York, NY, United States\",\"new york\",243.6,55.5,66.5,59.8,7.5,70.7,,42.9,0.13,1010.9,0.0,0.0,53.0,18.8,,\"Partially cloudy\"\n",
      "\"new york\",\"10/18/2022\",40.7146,-74.0071,\"New York, NY, United States\",\"new york\",314.5,45.8,53.9,49.1,12.9,6.3,,33.3,0.0,1013.7,0.0,0.0,46.3,21.9,39.9,\"Clear\"\n",
      "\"new york\",\"10/19/2022\",40.7146,-74.0071,\"New York, NY, United States\",\"new york\",277.8,42.0,54.4,48.2,7.4,8.9,,19.0,0.0,1019.0,0.0,0.0,44.3,16.6,37.0,\"Clear\"\n",
      "\"new york\",\"10/20/2022\",40.7146,-74.0071,\"New York, NY, United States\",\"new york\",199.4,47.7,61.8,54.6,11.8,72.6,,14.3,0.0,1012.4,0.0,0.0,53.8,26.8,43.9,\"Partially cloudy\"\n",
      "\"new york\",\"10/21/2022\",40.7146,-74.0071,\"New York, NY, United States\",\"new york\",305.5,48.6,58.9,54.0,10.8,28.2,,28.6,0.03,1009.8,0.0,0.0,55.9,24.0,44.7,\"Partially cloudy\"\n",
      "\"new york\",\"10/22/2022\",40.7146,-74.0071,\"New York, NY, United States\",\"new york\",264.0,44.7,61.8,52.8,8.5,0.4,,33.3,0.0,1016.8,0.0,0.0,49.7,24.6,40.7,\"Clear\"\n",
      "\"new york\",\"10/23/2022\",40.7146,-74.0071,\"New York, NY, United States\",\"new york\",216.1,53.1,70.4,60.8,6.6,56.7,,23.8,0.0,1018.0,0.0,0.0,53.4,25.5,,\"Partially cloudy\"\n",
      "\"new york\",\"10/24/2022\",40.7146,-74.0071,\"New York, NY, United States\",\"new york\",181.6,59.4,70.2,64.0,12.4,88.3,,4.8,0.24,1011.8,0.0,0.0,82.3,39.8,,\"Overcast\"\n",
      "\"new york\",\"10/25/2022\",40.7146,-74.0071,\"New York, NY, United States\",\"new york\",241.6,57.8,69.3,63.0,14.9,4.4,,9.5,0.03,1004.2,0.0,0.0,52.3,34.9,,\"Clear\"\n",
      "\"new york\",\"10/26/2022\",40.7146,-74.0071,\"New York, NY, United States\",\"new york\",250.1,56.9,64.7,59.7,16.7,0.8,,9.5,0.0,1007.7,0.0,0.0,37.1,35.8,,\"Clear\"\n",
      "\n"
     ]
    }
   ],
   "source": [
    "import requests\n",
    "import json\n",
    "\n",
    "cities = 0\n",
    "\n",
    "while cities < 3: # allows for multiple searches\n",
    "\turl = \"https://visual-crossing-weather.p.rapidapi.com/forecast\"\n",
    "\n",
    "\titem = input(\"Select a city:\") # allows for search\n",
    "\n",
    "\tquery = {\"aggregateHours\":\"24\",\"location\":item,\"contentType\":\"csv\",\"unitGroup\":\"us\",\"shortColumnNames\":\"0\"}\n",
    "\n",
    "\theaders = {\n",
    "\t\t\"X-RapidAPI-Key\": \"6b9dacaef5mshade649601d1255fp14c8c2jsn9aeceb731b2b\",\n",
    "\t\t\"X-RapidAPI-Host\": \"visual-crossing-weather.p.rapidapi.com\"\n",
    "\t}\n",
    "\n",
    "\tresponse = requests.get(url, headers=headers, params=query)\n",
    "\n",
    "\tprint(response.text)\n",
    "\tcities = (cities +1)"
   ]
  }
 ],
 "metadata": {
  "kernelspec": {
   "display_name": "Python 3.8.10 64-bit",
   "language": "python",
   "name": "python3"
  },
  "language_info": {
   "codemirror_mode": {
    "name": "ipython",
    "version": 3
   },
   "file_extension": ".py",
   "mimetype": "text/x-python",
   "name": "python",
   "nbconvert_exporter": "python",
   "pygments_lexer": "ipython3",
   "version": "3.8.10"
  },
  "orig_nbformat": 4,
  "vscode": {
   "interpreter": {
    "hash": "916dbcbb3f70747c44a77c7bcd40155683ae19c65e1c03b4aa3499c5328201f1"
   }
  }
 },
 "nbformat": 4,
 "nbformat_minor": 2
}
