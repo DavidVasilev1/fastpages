{
 "cells": [
  {
   "attachments": {},
   "cell_type": "markdown",
   "metadata": {},
   "source": [
    "# Sorting Algorithms\n",
    "> Working with Data Structures and manipulating data.\n",
    "\n",
    "- toc: true\n",
    "- categories: []\n",
    "- type: pbl\n",
    "- week: 34"
   ]
  },
  {
   "attachments": {},
   "cell_type": "markdown",
   "metadata": {},
   "source": [
    "[wget link](https://raw.githubusercontent.com/nighthawkcoders/APCSP/master/_notebooks/2023-05-15-DS-sorting.ipynb)"
   ]
  },
  {
   "cell_type": "code",
   "execution_count": 1,
   "metadata": {},
   "outputs": [
    {
     "name": "stdout",
     "output_type": "stream",
     "text": [
      "Random List\n",
      "[70, 88, 8, 54, 95, 47, 71, 90, 20, 36]\n"
     ]
    }
   ],
   "source": [
    "import random\n",
    "\n",
    "numbers = []\n",
    "for i in range(10):\n",
    "    numbers.append(random.randint(0,100))\n",
    "print(\"Random List\")\n",
    "print(numbers)"
   ]
  },
  {
   "attachments": {},
   "cell_type": "markdown",
   "metadata": {},
   "source": [
    "# Warm Up\n",
    "\n",
    "> Discuss with a partner... \n",
    "What are some strategies you would use to sort this list? (Don't worry about writing code for now)\n",
    "- I would take each individual number and move them around in order to make the numbers least to greatest. I would do this by comparing that specific number to all the other numbers in the list and then sorting it based on that."
   ]
  },
  {
   "attachments": {},
   "cell_type": "markdown",
   "metadata": {},
   "source": [
    "# Explore\n",
    "\n",
    "Get into groups of 3\n",
    "\n",
    "We will be focusing on 4 algorithms today.\n",
    "\n",
    "We will look at the first one together, Bubble Sort\n",
    "\n",
    "![](images/bubble-sort.png)\n",
    "\n",
    "What is happening with this sort?\n",
    "\n",
    "In your groups you will each choose to be an expert on a sorting algorithm. Merge, Selection, and Insertion.\n",
    "Take about 5 minutes to read about your algorithm and be ready to explain it to your other group members. \n",
    "\n",
    "[Merge](https://www.geeksforgeeks.org/merge-sort/#)\n",
    "\n",
    "- The process of merge sort is to divide the array into two halves, sort each half, and then merge the sorted halves back together. This process is repeated until the entire array is sorted.\n",
    "\n",
    "[Selection](https://www.geeksforgeeks.org/selection-sort/)\n",
    "\n",
    "- The algorithm repeatedly selects the smallest (or largest) element from the unsorted portion of the list and swaps it with the first element of the unsorted portion. This process is repeated for the remaining unsorted portion of the list until the entire list is sorted.\n",
    "\n",
    "[Insertion](https://www.geeksforgeeks.org/insertion-sort/)\n",
    "\n",
    "- The array is virtually split into a sorted and an unsorted part. Values from the unsorted part are picked and placed at the correct position in the sorted part."
   ]
  },
  {
   "attachments": {},
   "cell_type": "markdown",
   "metadata": {},
   "source": [
    "## Practice\n",
    "\n",
    "[75, 17, 46, 80, 67, 45, 69, 79, 40, 0]\n",
    "\n",
    "How would you sort this list with... \n",
    "- Bubble Sort\n",
    "- Selection Sort\n",
    "> Explain.\n",
    "\n",
    "- Bubble Sort - swaps adjacent values until they are in the correct order.\n",
    "  - 75 and 17 would switch places, 46 and 75 would switch places and so on.\n",
    "- Selection Sort - the smallest or largest value is swapped with the first term of the unsorted array\n",
    "  - 80 would be moved to the very end with swapping, then 79 would be moved with swapping and so on.\n",
    "\n",
    "[88, 39, 53, 39, 58, 43, 74, 81, 71, 51]\n",
    "\n",
    "How would you sort this list with... \n",
    "- Merge Sort\n",
    "- Insertion Sort\n",
    "> Explain.\n",
    "\n",
    "- Merge Sort - splits list into parts and then swaps values until they sort\n",
    "  -  88, 39, 53, 39, 58 and 43, 74, 81, 71, 51 then those would get split and then those would get split until the list is sorted\n",
    "- Insertion Sort - looks at unsorted value and then moves it until all values after it are greater\n",
    "  - looks at 39 and 88 and moves 39 before 88, continues with all other values until sorted"
   ]
  },
  {
   "attachments": {},
   "cell_type": "markdown",
   "metadata": {},
   "source": [
    "# Sorting Words\n",
    "> Sorting strings works in the same way as integers. Using your expertise algorithm, sort the following list of random words."
   ]
  },
  {
   "cell_type": "code",
   "execution_count": 1,
   "metadata": {},
   "outputs": [
    {
     "name": "stderr",
     "output_type": "stream",
     "text": [
      "[nltk_data] Downloading package words to /home/davidv/nltk_data...\n"
     ]
    },
    {
     "name": "stdout",
     "output_type": "stream",
     "text": [
      "Random List\n",
      "['musefully', 'yerga', 'Hemimeridae', 'curium', 'deal', 'unzealous', 'Kabaka', 'strophotaxis', 'presupplication', 'shutter']\n"
     ]
    },
    {
     "name": "stderr",
     "output_type": "stream",
     "text": [
      "[nltk_data]   Unzipping corpora/words.zip.\n"
     ]
    }
   ],
   "source": [
    "import nltk\n",
    "import random\n",
    "\n",
    "nltk.download('words')  # Download the word list (only required once)\n",
    "\n",
    "from nltk.corpus import words\n",
    "\n",
    "english_words = words.words()\n",
    "#print(len(english_words))  # Prints the number of words in the list\n",
    "\n",
    "# You can now use the 'english_words' list in your code\n",
    "\n",
    "words = []\n",
    "for i in range(10):\n",
    "    words.append(english_words[random.randint(0,len(english_words))])\n",
    "print(\"Random List\")\n",
    "print(words)"
   ]
  },
  {
   "attachments": {},
   "cell_type": "markdown",
   "metadata": {},
   "source": [
    "You would look at the first letter and compare them to all the other first letters of the words and that would allow you too look through and sort the words. In this case, with merge sort, you could split the list and then you would split those segments until you're left with the simplest parts of the array and then from there you would sort alphabetically."
   ]
  },
  {
   "attachments": {},
   "cell_type": "markdown",
   "metadata": {},
   "source": [
    "## Discuss \n",
    "Answer the following with your group.\n",
    "\n",
    "- When should you use each algorithm? What makes an algorithm the right choice?\n",
    "    - You would use the algorithm that would take the least amount of steps.\n",
    "- Given the following lists...\n",
    "    - [0, 2, 6, 4, 8, 10] - You would use insertion because only one swap would be used. Bubble would also work.\n",
    "    - [Elephant, Banana, Cat, Dog, Apple] - Selection would work because only the first and last would need to be sorted.\n",
    "    - [29, 13, 83, 47, 32, 78, 100, 60, 65, 15, 24, 9, 40, 68, 53, 8, 90, 58, 39, 32, 34, 91, 74, 94, 49, 87, 34, 87, 23, 17, 27, 2, 38, 58, 84, 15, 9, 46, 74, 40, 44, 8, 55, 28, 81, 92, 81, 88, 53, 38, 19, 21, 9, 54, 21, 67, 3, 41, 3, 74, 13, 71, 70, 45, 5, 36, 80, 64, 97, 86, 73, 74, 94, 79, 49, 32, 20, 68, 64, 69, 1, 77, 31, 56, 100, 80, 48, 75, 85, 93, 67, 57, 26, 56, 43, 53, 59, 28, 67, 50] - Merge would be used because it is the longest because it's complexity is logarithmic."
   ]
  },
  {
   "attachments": {},
   "cell_type": "markdown",
   "metadata": {},
   "source": [
    "## HACKS\n",
    "> Provided below is a Bubble Sort Algorithm sorting a list of dictionaries based off of selected key.\n",
    "\n",
    "- Now it's time to do some coding...\n",
    "\n",
    "- Run code and then research and answer these questions...\n",
    "    - Is a list and/or dictionary in python considered a primitive or collection type?  Why?\n",
    "        - A list and dictionary are both considered a collection type in python because they are a group of values that are stored. They can be edited, deleted, or added to the structure as necessary.\n",
    "    - Is the list passed into bubble sort \"pass-by-value\" or \"pass-by-reference? Describe why in relation to output.\n",
    "        - The list in bubble sort is pass by value because it is passed as an argument in a function \n",
    "\n",
    "- Implement new cell(s) and/or organize cells to do the following.\n",
    "    - Create your own list\n",
    "    - Use your expertise sorting algorithm (selection, insertion, merge). Note, I got my bubble sort from Geek for Geeks and made modifications. Each student in a group should have a unique algorithm.\n",
    "    - Test your list with my bubble sort\n",
    "    - Test my list with your new sort, do NOT make a copy my list when doing this\n",
    "    - Research analysis on sorting: comparisons, swaps, time.  Build this into your hacks.\n",
    "    - Find a better way to print the data, key first, then other elements in viewable form.\n",
    "\n",
    "Use the code below to help guide your adventure"
   ]
  },
  {
   "attachments": {},
   "cell_type": "markdown",
   "metadata": {},
   "source": [
    "Research Analysis\n",
    "\n",
    "- Both bubble sort and merge sort seem to have the same time complexity in this case, however this is probably because the lists are very small. Theoretically merge sort should be faster than bubble sort because merge sort has a log time complexity while bubble sort has a n^2 time complexity, meaning that it gets slower for larger lists.\n",
    "\n",
    "- In terms of code, bubble sort takes a shorter amount of code while merge sort takes a larger amount of code because it is more complex than bubble sort."
   ]
  },
  {
   "cell_type": "code",
   "execution_count": 9,
   "metadata": {},
   "outputs": [
    {
     "name": "stdout",
     "output_type": "stream",
     "text": [
      "Original\n",
      "[{'car': 'Lamborghini', 'model': 'Aventador', 'price': 500000, 'horsepower': 700}, {'car': 'Ferrari', 'model': '488 GTB', 'price': 250000, 'horsepower': 660}, {'car': 'Porsche', 'model': '911 Turbo S', 'price': 200000, 'horsepower': 640}, {'car': 'McLaren', 'model': '720S', 'price': 300000, 'horsepower': 710}, {'car': 'Bugatti', 'model': 'Chiron', 'price': 3000000, 'horsepower': 1500}]\n",
      "car\n",
      "[{'car': 'Bugatti', 'model': 'Chiron', 'price': 3000000, 'horsepower': 1500}, {'car': 'Ferrari', 'model': '488 GTB', 'price': 250000, 'horsepower': 660}, {'car': 'Lamborghini', 'model': 'Aventador', 'price': 500000, 'horsepower': 700}, {'car': 'McLaren', 'model': '720S', 'price': 300000, 'horsepower': 710}, {'car': 'Porsche', 'model': '911 Turbo S', 'price': 200000, 'horsepower': 640}]\n",
      "model\n",
      "[{'car': 'Ferrari', 'model': '488 GTB', 'price': 250000, 'horsepower': 660}, {'car': 'McLaren', 'model': '720S', 'price': 300000, 'horsepower': 710}, {'car': 'Porsche', 'model': '911 Turbo S', 'price': 200000, 'horsepower': 640}, {'car': 'Lamborghini', 'model': 'Aventador', 'price': 500000, 'horsepower': 700}, {'car': 'Bugatti', 'model': 'Chiron', 'price': 3000000, 'horsepower': 1500}]\n",
      "price\n",
      "[{'car': 'Porsche', 'model': '911 Turbo S', 'price': 200000, 'horsepower': 640}, {'car': 'Ferrari', 'model': '488 GTB', 'price': 250000, 'horsepower': 660}, {'car': 'McLaren', 'model': '720S', 'price': 300000, 'horsepower': 710}, {'car': 'Lamborghini', 'model': 'Aventador', 'price': 500000, 'horsepower': 700}, {'car': 'Bugatti', 'model': 'Chiron', 'price': 3000000, 'horsepower': 1500}]\n",
      "horsepower\n",
      "[{'car': 'Porsche', 'model': '911 Turbo S', 'price': 200000, 'horsepower': 640}, {'car': 'Ferrari', 'model': '488 GTB', 'price': 250000, 'horsepower': 660}, {'car': 'Lamborghini', 'model': 'Aventador', 'price': 500000, 'horsepower': 700}, {'car': 'McLaren', 'model': '720S', 'price': 300000, 'horsepower': 710}, {'car': 'Bugatti', 'model': 'Chiron', 'price': 3000000, 'horsepower': 1500}]\n"
     ]
    }
   ],
   "source": [
    "\"\"\"\n",
    "* Creator: Nighthawk Coding Society\n",
    "Bubble Sort of a List with optimizations\n",
    "\"\"\"\n",
    "\n",
    "# bubble sorts a list of dictionaries, base off of provided key\n",
    "def bubbleSort(list, key):\n",
    "    n = len(list) - 1  # list are indexed 0 to n-1, len is n\n",
    "    \n",
    "    # Traverse through list with i index\n",
    "    for i in range(n):\n",
    "        swapped = False  # optimize code, so it exits if now swaps on inner loop\n",
    "\n",
    "        # Inner traversal using j index\n",
    "        for j in range(n-i):  # n-i as positions on right are in order in bubble\n",
    " \n",
    "            # Swap if the element KeyN is greater KeyN1\n",
    "            keyN = list[j].get(key)\n",
    "            keyN1 = list[j+1].get(key)\n",
    "            if keyN > keyN1:\n",
    "                swapped = True\n",
    "                list[j], list[j + 1] = list[j + 1], list[j]  # single line swap\n",
    "         \n",
    "        if not swapped:  # if no swaps on inner pass, list is sorted\n",
    "            return  # exit function\n",
    "    \n",
    "\n",
    "if __name__ == \"__main__\":\n",
    "    # list/dictionary sample\n",
    "    car_list = [\n",
    "    {\"car\": \"Lamborghini\", \"model\": \"Aventador\", \"price\": 500000, \"horsepower\": 700},\n",
    "    {\"car\": \"Ferrari\", \"model\": \"488 GTB\", \"price\": 250000, \"horsepower\": 660},\n",
    "    {\"car\": \"Porsche\", \"model\": \"911 Turbo S\", \"price\": 200000, \"horsepower\": 640},\n",
    "    {\"car\": \"McLaren\", \"model\": \"720S\", \"price\": 300000, \"horsepower\": 710},\n",
    "    {\"car\": \"Bugatti\", \"model\": \"Chiron\", \"price\": 3000000, \"horsepower\": 1500}\n",
    "    ]  \n",
    "    \n",
    "    # assuming uniform keys, pick 1st row as source of keys\n",
    "    key_row = car_list [0]\n",
    "\n",
    "    # print list as defined\n",
    "    print(\"Original\")\n",
    "    print(car_list )\n",
    "    \n",
    "    for key in key_row:  # finds each key in the row\n",
    "        print(key)\n",
    "        bubbleSort(car_list , key)  # sort list of people\n",
    "        print(car_list )"
   ]
  },
  {
   "cell_type": "code",
   "execution_count": 10,
   "metadata": {},
   "outputs": [
    {
     "name": "stdout",
     "output_type": "stream",
     "text": [
      "Sorting by car:\n",
      "╒═════════════╤═════════════╤═════════╤══════════════╕\n",
      "│ Car         │ Model       │   Price │   Horsepower │\n",
      "╞═════════════╪═════════════╪═════════╪══════════════╡\n",
      "│ Bugatti     │ Chiron      │ 3000000 │         1500 │\n",
      "├─────────────┼─────────────┼─────────┼──────────────┤\n",
      "│ Ferrari     │ 488 GTB     │  250000 │          660 │\n",
      "├─────────────┼─────────────┼─────────┼──────────────┤\n",
      "│ Lamborghini │ Aventador   │  500000 │          700 │\n",
      "├─────────────┼─────────────┼─────────┼──────────────┤\n",
      "│ McLaren     │ 720S        │  300000 │          710 │\n",
      "├─────────────┼─────────────┼─────────┼──────────────┤\n",
      "│ Porsche     │ 911 Turbo S │  200000 │          640 │\n",
      "╘═════════════╧═════════════╧═════════╧══════════════╛\n",
      "\n",
      "Sorting by model:\n",
      "╒═════════════╤═════════════╤═════════╤══════════════╕\n",
      "│ Car         │ Model       │   Price │   Horsepower │\n",
      "╞═════════════╪═════════════╪═════════╪══════════════╡\n",
      "│ Ferrari     │ 488 GTB     │  250000 │          660 │\n",
      "├─────────────┼─────────────┼─────────┼──────────────┤\n",
      "│ McLaren     │ 720S        │  300000 │          710 │\n",
      "├─────────────┼─────────────┼─────────┼──────────────┤\n",
      "│ Porsche     │ 911 Turbo S │  200000 │          640 │\n",
      "├─────────────┼─────────────┼─────────┼──────────────┤\n",
      "│ Lamborghini │ Aventador   │  500000 │          700 │\n",
      "├─────────────┼─────────────┼─────────┼──────────────┤\n",
      "│ Bugatti     │ Chiron      │ 3000000 │         1500 │\n",
      "╘═════════════╧═════════════╧═════════╧══════════════╛\n",
      "\n",
      "Sorting by price:\n",
      "╒═════════════╤═════════════╤═════════╤══════════════╕\n",
      "│ Car         │ Model       │   Price │   Horsepower │\n",
      "╞═════════════╪═════════════╪═════════╪══════════════╡\n",
      "│ Porsche     │ 911 Turbo S │  200000 │          640 │\n",
      "├─────────────┼─────────────┼─────────┼──────────────┤\n",
      "│ Ferrari     │ 488 GTB     │  250000 │          660 │\n",
      "├─────────────┼─────────────┼─────────┼──────────────┤\n",
      "│ McLaren     │ 720S        │  300000 │          710 │\n",
      "├─────────────┼─────────────┼─────────┼──────────────┤\n",
      "│ Lamborghini │ Aventador   │  500000 │          700 │\n",
      "├─────────────┼─────────────┼─────────┼──────────────┤\n",
      "│ Bugatti     │ Chiron      │ 3000000 │         1500 │\n",
      "╘═════════════╧═════════════╧═════════╧══════════════╛\n",
      "\n",
      "Sorting by horsepower:\n",
      "╒═════════════╤═════════════╤═════════╤══════════════╕\n",
      "│ Car         │ Model       │   Price │   Horsepower │\n",
      "╞═════════════╪═════════════╪═════════╪══════════════╡\n",
      "│ Porsche     │ 911 Turbo S │  200000 │          640 │\n",
      "├─────────────┼─────────────┼─────────┼──────────────┤\n",
      "│ Ferrari     │ 488 GTB     │  250000 │          660 │\n",
      "├─────────────┼─────────────┼─────────┼──────────────┤\n",
      "│ Lamborghini │ Aventador   │  500000 │          700 │\n",
      "├─────────────┼─────────────┼─────────┼──────────────┤\n",
      "│ McLaren     │ 720S        │  300000 │          710 │\n",
      "├─────────────┼─────────────┼─────────┼──────────────┤\n",
      "│ Bugatti     │ Chiron      │ 3000000 │         1500 │\n",
      "╘═════════════╧═════════════╧═════════╧══════════════╛\n",
      "\n"
     ]
    }
   ],
   "source": [
    "from tabulate import tabulate\n",
    "\n",
    "def merge_sort(lst, key):\n",
    "    if len(lst) <= 1:\n",
    "        return lst\n",
    "    \n",
    "    mid = len(lst) // 2\n",
    "    left_half = lst[:mid]\n",
    "    right_half = lst[mid:]\n",
    "    \n",
    "    left_sorted = merge_sort(left_half, key)\n",
    "    right_sorted = merge_sort(right_half, key)\n",
    "    \n",
    "    return merge(left_sorted, right_sorted, key)\n",
    "\n",
    "\n",
    "def merge(left, right, key):\n",
    "    merged = []\n",
    "    left_index = right_index = 0\n",
    "    \n",
    "    while left_index < len(left) and right_index < len(right):\n",
    "        if left[left_index][key] <= right[right_index][key]:\n",
    "            merged.append(left[left_index])\n",
    "            left_index += 1\n",
    "        else:\n",
    "            merged.append(right[right_index])\n",
    "            right_index += 1\n",
    "    \n",
    "    while left_index < len(left):\n",
    "        merged.append(left[left_index])\n",
    "        left_index += 1\n",
    "    \n",
    "    while right_index < len(right):\n",
    "        merged.append(right[right_index])\n",
    "        right_index += 1\n",
    "    \n",
    "    return merged\n",
    "\n",
    "\n",
    "# Example usage\n",
    "car_list = [\n",
    "    {\"car\": \"Lamborghini\", \"model\": \"Aventador\", \"price\": 500000, \"horsepower\": 700},\n",
    "    {\"car\": \"Ferrari\", \"model\": \"488 GTB\", \"price\": 250000, \"horsepower\": 660},\n",
    "    {\"car\": \"Porsche\", \"model\": \"911 Turbo S\", \"price\": 200000, \"horsepower\": 640},\n",
    "    {\"car\": \"McLaren\", \"model\": \"720S\", \"price\": 300000, \"horsepower\": 710},\n",
    "    {\"car\": \"Bugatti\", \"model\": \"Chiron\", \"price\": 3000000, \"horsepower\": 1500}\n",
    "]\n",
    "\n",
    "key_list = [\"car\", \"model\", \"price\", \"horsepower\"]\n",
    "\n",
    "for key in key_list:\n",
    "    sorted_cars = merge_sort(car_list, key)\n",
    "    \n",
    "    headers = [\"Car\", \"Model\", \"Price\", \"Horsepower\"]\n",
    "    rows = [[car[\"car\"], car[\"model\"], car[\"price\"], car[\"horsepower\"]] for car in sorted_cars]\n",
    "    \n",
    "    print(f\"Sorting by {key}:\")\n",
    "    print(tabulate(rows, headers=headers, tablefmt=\"fancy_grid\"))\n",
    "    print()\n"
   ]
  }
 ],
 "metadata": {
  "kernelspec": {
   "display_name": "base",
   "language": "python",
   "name": "python3"
  },
  "language_info": {
   "codemirror_mode": {
    "name": "ipython",
    "version": 3
   },
   "file_extension": ".py",
   "mimetype": "text/x-python",
   "name": "python",
   "nbconvert_exporter": "python",
   "pygments_lexer": "ipython3",
   "version": "3.9.12"
  },
  "orig_nbformat": 4
 },
 "nbformat": 4,
 "nbformat_minor": 2
}
