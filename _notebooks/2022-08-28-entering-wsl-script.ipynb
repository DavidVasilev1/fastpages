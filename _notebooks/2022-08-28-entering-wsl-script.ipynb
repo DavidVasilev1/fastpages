{
 "cells": [
  {
   "cell_type": "markdown",
   "metadata": {},
   "source": [
    "# How to Enter and Code with \"wsl\":\n",
    ">Note of the very basics in CSP.\n",
    "\n",
    "- title: How to Enter and Code with wsl\n",
    "- layout: post\n",
    "- categories: [Jupyter, Tri 1 Notes]"
   ]
  },
  {
   "cell_type": "code",
   "execution_count": null,
   "metadata": {
    "vscode": {
     "languageId": "shellscript"
    }
   },
   "outputs": [],
   "source": [
    "PS C:\\Users\\Dide> wsl\n",
    "(base) davidv@LAPTOP-NV0422DN:/mnt/c/Users/Dide$ cd ~\n",
    "(base) davidv@LAPTOP-NV0422DN:~$ cd vscode\n",
    "(base) davidv@LAPTOP-NV0422DN:~/vscode$ cd fastpages\n",
    "(base) davidv@LAPTOP-NV0422DN:~/vscode/fastpages$ code ."
   ]
  },
  {
   "cell_type": "markdown",
   "metadata": {},
   "source": [
    "Go to [Github](https://github.com/DavidVasilev1/fastpages/actions) to check status of all changes."
   ]
  }
 ],
 "metadata": {
  "kernelspec": {
   "display_name": "Python 3.8.10 64-bit",
   "language": "python",
   "name": "python3"
  },
  "language_info": {
   "name": "python",
   "version": "3.8.10"
  },
  "orig_nbformat": 4,
  "vscode": {
   "interpreter": {
    "hash": "916dbcbb3f70747c44a77c7bcd40155683ae19c65e1c03b4aa3499c5328201f1"
   }
  }
 },
 "nbformat": 4,
 "nbformat_minor": 2
}
