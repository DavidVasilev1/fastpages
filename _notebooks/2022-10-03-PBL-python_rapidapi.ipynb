{
 "cells": [
  {
   "cell_type": "markdown",
   "metadata": {},
   "source": [
    "## RapidAPI"
   ]
  },
  {
   "cell_type": "code",
   "execution_count": 22,
   "metadata": {},
   "outputs": [
    {
     "name": "stdout",
     "output_type": "stream",
     "text": [
      "Your city:  an diego\n",
      "Address,Date time,Latitude,Longitude,Resolved Address,Name,Wind Direction,Minimum Temperature,Maximum Temperature,Temperature,Wind Speed,Cloud Cover,Heat Index,Chance Precipitation (%),Precipitation,Sea Level Pressure,Snow Depth,Snow,Relative Humidity,Wind Gust,Wind Chill,Conditions\n",
      "\"an diego\",\"10/10/2022\",6.39038,-75.41924,\"San Diego, Colombia\",\"an diego\",59.9,51.7,68.1,58.2,3.1,77.9,,100.0,0.08,1014.5,0.0,0.0,86.1,9.6,,\"Rain, Overcast\"\n",
      "\"an diego\",\"10/11/2022\",6.39038,-75.41924,\"San Diego, Colombia\",\"an diego\",62.4,49.9,71.5,57.9,3.3,63.3,,100.0,0.05,1016.2,0.0,0.0,81.2,11.2,,\"Rain, Partially cloudy\"\n",
      "\"an diego\",\"10/12/2022\",6.39038,-75.41924,\"San Diego, Colombia\",\"an diego\",88.5,49.0,68.1,56.9,2.6,84.7,,100.0,0.39,1015.8,0.0,0.0,86.8,5.1,,\"Rain, Overcast\"\n",
      "\"an diego\",\"10/13/2022\",6.39038,-75.41924,\"San Diego, Colombia\",\"an diego\",247.0,51.2,62.3,55.7,2.1,99.5,,100.0,0.54,1015.4,0.0,0.0,94.7,5.8,,\"Rain, Overcast\"\n",
      "\"an diego\",\"10/14/2022\",6.39038,-75.41924,\"San Diego, Colombia\",\"an diego\",236.2,52.2,64.3,56.0,1.7,96.2,,100.0,0.99,1015.8,0.0,0.0,95.3,6.5,,\"Rain, Overcast\"\n",
      "\"an diego\",\"10/15/2022\",6.39038,-75.41924,\"San Diego, Colombia\",\"an diego\",231.9,52.1,60.3,55.1,1.3,92.5,,100.0,1.01,1016.0,0.0,0.0,95.0,5.8,,\"Rain, Overcast\"\n",
      "\"an diego\",\"10/16/2022\",6.39038,-75.41924,\"San Diego, Colombia\",\"an diego\",217.1,51.0,66.8,56.1,1.8,95.7,,100.0,0.57,1015.0,0.0,0.0,93.0,2.5,,\"Rain, Overcast\"\n",
      "\"an diego\",\"10/17/2022\",6.39038,-75.41924,\"San Diego, Colombia\",\"an diego\",243.2,52.4,55.3,54.3,1.3,99.3,,100.0,0.98,1015.9,0.0,0.0,98.9,4.3,,\"Rain, Overcast\"\n",
      "\"an diego\",\"10/18/2022\",6.39038,-75.41924,\"San Diego, Colombia\",\"an diego\",71.0,49.9,65.6,56.8,2.0,85.1,,100.0,0.36,1015.4,0.0,0.0,92.0,5.8,,\"Rain, Overcast\"\n",
      "\"an diego\",\"10/19/2022\",6.39038,-75.41924,\"San Diego, Colombia\",\"an diego\",67.4,53.2,65.9,57.9,2.1,79.3,,100.0,0.76,1015.5,0.0,0.0,92.0,5.4,,\"Rain, Overcast\"\n",
      "\"an diego\",\"10/20/2022\",6.39038,-75.41924,\"San Diego, Colombia\",\"an diego\",111.0,51.3,65.7,57.8,2.1,99.0,,100.0,0.25,1015.1,0.0,0.0,88.8,4.7,,\"Rain, Overcast\"\n",
      "\"an diego\",\"10/21/2022\",6.39038,-75.41924,\"San Diego, Colombia\",\"an diego\",108.8,52.8,66.6,57.8,1.7,99.5,,100.0,0.65,1015.6,0.0,0.0,90.7,5.1,,\"Rain, Overcast\"\n",
      "\"an diego\",\"10/22/2022\",6.39038,-75.41924,\"San Diego, Colombia\",\"an diego\",190.0,52.6,63.6,57.1,1.3,93.1,,100.0,0.45,1016.1,0.0,0.0,93.6,3.1,,\"Rain, Overcast\"\n",
      "\"an diego\",\"10/23/2022\",6.39038,-75.41924,\"San Diego, Colombia\",\"an diego\",149.3,52.1,64.3,57.6,2.2,94.8,,100.0,0.3,1016.6,0.0,0.0,91.6,4.5,,\"Rain, Overcast\"\n",
      "\"an diego\",\"10/24/2022\",6.39038,-75.41924,\"San Diego, Colombia\",\"an diego\",184.4,49.7,68.3,57.5,1.9,90.6,,100.0,0.26,1016.3,0.0,0.0,86.2,4.0,,\"Rain, Overcast\"\n",
      "\"an diego\",\"10/25/2022\",6.39038,-75.41924,\"San Diego, Colombia\",\"an diego\",222.7,52.2,64.7,56.8,1.8,98.9,,100.0,0.18,1015.6,0.0,0.0,89.6,3.6,,\"Rain, Overcast\"\n",
      "\n"
     ]
    }
   ],
   "source": [
    "import requests\n",
    "\n",
    "url = \"https://visual-crossing-weather.p.rapidapi.com/forecast\"\n",
    "\n",
    "item = input(\"Select a city:\")\n",
    "\n",
    "\n",
    "query = {\"aggregateHours\":\"24\",\"location\":item,\"contentType\":\"csv\",\"unitGroup\":\"us\",\"shortColumnNames\":\"0\"}\n",
    "\n",
    "headers = {\n",
    "\t\"X-RapidAPI-Key\": \"6b9dacaef5mshade649601d1255fp14c8c2jsn9aeceb731b2b\",\n",
    "\t\"X-RapidAPI-Host\": \"visual-crossing-weather.p.rapidapi.com\"\n",
    "}\n",
    "\n",
    "response = requests.get(url, headers=headers, params=query)\n",
    "\n",
    "## data = response.json()\n",
    "\n",
    "print(\"Your city: \", item)\n",
    "\n",
    "print(response.text)"
   ]
  }
 ],
 "metadata": {
  "kernelspec": {
   "display_name": "Python 3.8.10 64-bit",
   "language": "python",
   "name": "python3"
  },
  "language_info": {
   "codemirror_mode": {
    "name": "ipython",
    "version": 3
   },
   "file_extension": ".py",
   "mimetype": "text/x-python",
   "name": "python",
   "nbconvert_exporter": "python",
   "pygments_lexer": "ipython3",
   "version": "3.8.10"
  },
  "orig_nbformat": 4,
  "vscode": {
   "interpreter": {
    "hash": "916dbcbb3f70747c44a77c7bcd40155683ae19c65e1c03b4aa3499c5328201f1"
   }
  }
 },
 "nbformat": 4,
 "nbformat_minor": 2
}
